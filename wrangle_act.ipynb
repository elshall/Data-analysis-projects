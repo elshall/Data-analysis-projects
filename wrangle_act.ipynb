{
 "cells": [
  {
   "cell_type": "markdown",
   "metadata": {},
   "source": [
    "# Wrangling & Analyzing Twitter Data"
   ]
  },
  {
   "cell_type": "code",
   "execution_count": 3,
   "metadata": {},
   "outputs": [],
   "source": [
    "import json\n",
    "import matplotlib.pyplot as plt\n",
    "import numpy as np\n",
    "import os\n",
    "import pandas as pd\n",
    "import re\n",
    "import requests\n",
    "import seaborn as sns\n",
    "import tweepy\n",
    "\n",
    "from datetime import datetime\n",
    "from functools import reduce\n",
    "from collections import Counter\n",
    "\n",
    "% matplotlib inline"
   ]
  },
  {
   "cell_type": "markdown",
   "metadata": {},
   "source": [
    "# 1. Gathering Data\n",
    "---\n",
    "First, I need to gather all the data required to complete this project.\n",
    "> Load the data in variables for future use :\n",
    ">> * Enhanced twitter archive\n",
    ">> * Image predictions\n",
    ">> * Query Twitter API with the given tweet ids in the enhanced twitter archive"
   ]
  },
  {
   "cell_type": "code",
   "execution_count": 2,
   "metadata": {},
   "outputs": [],
   "source": [
    "#Load the enhanced data I was given\n",
    "weRateDogsArchive = pd.read_csv('twitter-archive-enhanced.csv')"
   ]
  },
  {
   "cell_type": "code",
   "execution_count": 3,
   "metadata": {},
   "outputs": [],
   "source": [
    "#The given url where image predictions file are stored in\n",
    "URL = 'https://d17h27t6h515a5.cloudfront.net/topher/2017/August/599fd2ad_image-predictions/image-predictions.tsv'\n",
    "#Requesting the image predictions file from udcity server\n",
    "getResponse = requests.get(URL)\n",
    "with open(os.path.join('image_predictions.tsv'), mode = 'wb') as file:\n",
    "    file.write(getResponse.content)"
   ]
  },
  {
   "cell_type": "code",
   "execution_count": 4,
   "metadata": {},
   "outputs": [],
   "source": [
    "#Load the downloaded prediction file from the previous step\n",
    "#TSV files are sperated by tabs hence we used sep \\t\n",
    "imagesPredictions = pd.read_csv('image_predictions.tsv', sep = '\\t')"
   ]
  },
  {
   "cell_type": "code",
   "execution_count": 5,
   "metadata": {},
   "outputs": [],
   "source": [
    "#Intializing the twitter api with my given keys\n",
    "api_key = ''\n",
    "api_secret = ''\n",
    "access_token = ''\n",
    "access_secret = ''\n",
    "\n",
    "auth = tweepy.OAuthHandler(api_key, api_secret)\n",
    "auth.set_access_token(access_token, access_secret)\n",
    "\n",
    "api = tweepy.API(auth, parser=tweepy.parsers.JSONParser())"
   ]
  },
  {
   "cell_type": "code",
   "execution_count": 6,
   "metadata": {},
   "outputs": [
    {
     "name": "stdout",
     "output_type": "stream",
     "text": [
      "Rate limit reached. Sleeping for: 734\n",
      "Rate limit reached. Sleeping for: 734\n"
     ]
    }
   ],
   "source": [
    "#Using twitter API to download tweet status with their tweet ids from the given we rate dogs archive\n",
    "idsOfTweets = list(weRateDogsArchive['tweet_id'])\n",
    "\n",
    "#tweet data used for storing all the tweets status given from twitter apis\n",
    "tweet_data = []\n",
    "#tweet id success used to store all the retrived tweets status successfully\n",
    "tweet_id_success = []\n",
    "#tweet id missing used to store all the unsuccessfully quired tweets eg; tweet were delted\n",
    "tweet_id_missing = []\n",
    "for tweet_id in idsOfTweets:\n",
    "    try:\n",
    "        data = api.get_status(tweet_id, \n",
    "                              tweet_mode='extended',\n",
    "                              wait_on_rate_limit = True,\n",
    "                              wait_on_rate_limit_notify = True)\n",
    "        tweet_data.append(data)\n",
    "        tweet_id_success.append(tweet_id)\n",
    "    except:\n",
    "        tweet_id_missing.append(tweet_id)"
   ]
  },
  {
   "cell_type": "code",
   "execution_count": 7,
   "metadata": {},
   "outputs": [
    {
     "data": {
      "text/plain": [
       "[888202515573088257,\n",
       " 873697596434513921,\n",
       " 872668790621863937,\n",
       " 872261713294495745,\n",
       " 869988702071779329,\n",
       " 866816280283807744,\n",
       " 861769973181624320,\n",
       " 856602993587888130,\n",
       " 845459076796616705,\n",
       " 844704788403113984,\n",
       " 842892208864923648,\n",
       " 837012587749474308,\n",
       " 827228250799742977,\n",
       " 812747805718642688,\n",
       " 802247111496568832,\n",
       " 775096608509886464,\n",
       " 770743923962707968,\n",
       " 754011816964026368,\n",
       " 680055455951884288]"
      ]
     },
     "execution_count": 7,
     "metadata": {},
     "output_type": "execute_result"
    }
   ],
   "source": [
    "#Missing tweet ids from the API\n",
    "tweet_id_missing"
   ]
  },
  {
   "cell_type": "code",
   "execution_count": 8,
   "metadata": {},
   "outputs": [],
   "source": [
    "#Writing Twitter JSON which we will use to create pandas DataFrame \n",
    "with open('tweet_data_json.txt', mode = 'w') as file:\n",
    "    json.dump(tweet_data, file)"
   ]
  },
  {
   "cell_type": "code",
   "execution_count": 15,
   "metadata": {
    "scrolled": true
   },
   "outputs": [
    {
     "data": {
      "text/html": [
       "<div>\n",
       "<style scoped>\n",
       "    .dataframe tbody tr th:only-of-type {\n",
       "        vertical-align: middle;\n",
       "    }\n",
       "\n",
       "    .dataframe tbody tr th {\n",
       "        vertical-align: top;\n",
       "    }\n",
       "\n",
       "    .dataframe thead th {\n",
       "        text-align: right;\n",
       "    }\n",
       "</style>\n",
       "<table border=\"1\" class=\"dataframe\">\n",
       "  <thead>\n",
       "    <tr style=\"text-align: right;\">\n",
       "      <th></th>\n",
       "      <th>tweet_id</th>\n",
       "      <th>favorite_count</th>\n",
       "      <th>retweet_count</th>\n",
       "    </tr>\n",
       "  </thead>\n",
       "  <tbody>\n",
       "    <tr>\n",
       "      <th>0</th>\n",
       "      <td>892420643555336193</td>\n",
       "      <td>37611</td>\n",
       "      <td>8199</td>\n",
       "    </tr>\n",
       "    <tr>\n",
       "      <th>1</th>\n",
       "      <td>892177421306343426</td>\n",
       "      <td>32319</td>\n",
       "      <td>6065</td>\n",
       "    </tr>\n",
       "    <tr>\n",
       "      <th>2</th>\n",
       "      <td>891815181378084864</td>\n",
       "      <td>24353</td>\n",
       "      <td>4011</td>\n",
       "    </tr>\n",
       "    <tr>\n",
       "      <th>3</th>\n",
       "      <td>891689557279858688</td>\n",
       "      <td>40935</td>\n",
       "      <td>8362</td>\n",
       "    </tr>\n",
       "    <tr>\n",
       "      <th>4</th>\n",
       "      <td>891327558926688256</td>\n",
       "      <td>39145</td>\n",
       "      <td>9052</td>\n",
       "    </tr>\n",
       "    <tr>\n",
       "      <th>5</th>\n",
       "      <td>891087950875897856</td>\n",
       "      <td>19679</td>\n",
       "      <td>3007</td>\n",
       "    </tr>\n",
       "    <tr>\n",
       "      <th>6</th>\n",
       "      <td>890971913173991426</td>\n",
       "      <td>11510</td>\n",
       "      <td>1986</td>\n",
       "    </tr>\n",
       "    <tr>\n",
       "      <th>7</th>\n",
       "      <td>890729181411237888</td>\n",
       "      <td>63445</td>\n",
       "      <td>18219</td>\n",
       "    </tr>\n",
       "    <tr>\n",
       "      <th>8</th>\n",
       "      <td>890609185150312448</td>\n",
       "      <td>27066</td>\n",
       "      <td>4124</td>\n",
       "    </tr>\n",
       "    <tr>\n",
       "      <th>9</th>\n",
       "      <td>890240255349198849</td>\n",
       "      <td>31011</td>\n",
       "      <td>7122</td>\n",
       "    </tr>\n",
       "    <tr>\n",
       "      <th>10</th>\n",
       "      <td>890006608113172480</td>\n",
       "      <td>29824</td>\n",
       "      <td>7081</td>\n",
       "    </tr>\n",
       "    <tr>\n",
       "      <th>11</th>\n",
       "      <td>889880896479866881</td>\n",
       "      <td>27044</td>\n",
       "      <td>4811</td>\n",
       "    </tr>\n",
       "    <tr>\n",
       "      <th>12</th>\n",
       "      <td>889665388333682689</td>\n",
       "      <td>46764</td>\n",
       "      <td>9696</td>\n",
       "    </tr>\n",
       "    <tr>\n",
       "      <th>13</th>\n",
       "      <td>889638837579907072</td>\n",
       "      <td>26368</td>\n",
       "      <td>4380</td>\n",
       "    </tr>\n",
       "    <tr>\n",
       "      <th>14</th>\n",
       "      <td>889531135344209921</td>\n",
       "      <td>14703</td>\n",
       "      <td>2174</td>\n",
       "    </tr>\n",
       "    <tr>\n",
       "      <th>15</th>\n",
       "      <td>889278841981685760</td>\n",
       "      <td>24551</td>\n",
       "      <td>5198</td>\n",
       "    </tr>\n",
       "    <tr>\n",
       "      <th>16</th>\n",
       "      <td>888917238123831296</td>\n",
       "      <td>28321</td>\n",
       "      <td>4349</td>\n",
       "    </tr>\n",
       "    <tr>\n",
       "      <th>17</th>\n",
       "      <td>888804989199671297</td>\n",
       "      <td>24846</td>\n",
       "      <td>4133</td>\n",
       "    </tr>\n",
       "    <tr>\n",
       "      <th>18</th>\n",
       "      <td>888554962724278272</td>\n",
       "      <td>19281</td>\n",
       "      <td>3417</td>\n",
       "    </tr>\n",
       "    <tr>\n",
       "      <th>19</th>\n",
       "      <td>888078434458587136</td>\n",
       "      <td>21164</td>\n",
       "      <td>3366</td>\n",
       "    </tr>\n",
       "    <tr>\n",
       "      <th>20</th>\n",
       "      <td>887705289381826560</td>\n",
       "      <td>29370</td>\n",
       "      <td>5196</td>\n",
       "    </tr>\n",
       "    <tr>\n",
       "      <th>21</th>\n",
       "      <td>887517139158093824</td>\n",
       "      <td>45012</td>\n",
       "      <td>11303</td>\n",
       "    </tr>\n",
       "    <tr>\n",
       "      <th>22</th>\n",
       "      <td>887473957103951883</td>\n",
       "      <td>67033</td>\n",
       "      <td>17543</td>\n",
       "    </tr>\n",
       "    <tr>\n",
       "      <th>23</th>\n",
       "      <td>887343217045368832</td>\n",
       "      <td>32739</td>\n",
       "      <td>10074</td>\n",
       "    </tr>\n",
       "    <tr>\n",
       "      <th>24</th>\n",
       "      <td>887101392804085760</td>\n",
       "      <td>29733</td>\n",
       "      <td>5756</td>\n",
       "    </tr>\n",
       "    <tr>\n",
       "      <th>25</th>\n",
       "      <td>886983233522544640</td>\n",
       "      <td>34150</td>\n",
       "      <td>7503</td>\n",
       "    </tr>\n",
       "    <tr>\n",
       "      <th>26</th>\n",
       "      <td>886736880519319552</td>\n",
       "      <td>11705</td>\n",
       "      <td>3153</td>\n",
       "    </tr>\n",
       "    <tr>\n",
       "      <th>27</th>\n",
       "      <td>886680336477933568</td>\n",
       "      <td>21829</td>\n",
       "      <td>4313</td>\n",
       "    </tr>\n",
       "    <tr>\n",
       "      <th>28</th>\n",
       "      <td>886366144734445568</td>\n",
       "      <td>20607</td>\n",
       "      <td>3092</td>\n",
       "    </tr>\n",
       "    <tr>\n",
       "      <th>29</th>\n",
       "      <td>886267009285017600</td>\n",
       "      <td>116</td>\n",
       "      <td>4</td>\n",
       "    </tr>\n",
       "    <tr>\n",
       "      <th>...</th>\n",
       "      <td>...</td>\n",
       "      <td>...</td>\n",
       "      <td>...</td>\n",
       "    </tr>\n",
       "    <tr>\n",
       "      <th>2307</th>\n",
       "      <td>666411507551481857</td>\n",
       "      <td>431</td>\n",
       "      <td>321</td>\n",
       "    </tr>\n",
       "    <tr>\n",
       "      <th>2308</th>\n",
       "      <td>666407126856765440</td>\n",
       "      <td>105</td>\n",
       "      <td>38</td>\n",
       "    </tr>\n",
       "    <tr>\n",
       "      <th>2309</th>\n",
       "      <td>666396247373291520</td>\n",
       "      <td>162</td>\n",
       "      <td>82</td>\n",
       "    </tr>\n",
       "    <tr>\n",
       "      <th>2310</th>\n",
       "      <td>666373753744588802</td>\n",
       "      <td>183</td>\n",
       "      <td>88</td>\n",
       "    </tr>\n",
       "    <tr>\n",
       "      <th>2311</th>\n",
       "      <td>666362758909284353</td>\n",
       "      <td>756</td>\n",
       "      <td>558</td>\n",
       "    </tr>\n",
       "    <tr>\n",
       "      <th>2312</th>\n",
       "      <td>666353288456101888</td>\n",
       "      <td>213</td>\n",
       "      <td>71</td>\n",
       "    </tr>\n",
       "    <tr>\n",
       "      <th>2313</th>\n",
       "      <td>666345417576210432</td>\n",
       "      <td>284</td>\n",
       "      <td>132</td>\n",
       "    </tr>\n",
       "    <tr>\n",
       "      <th>2314</th>\n",
       "      <td>666337882303524864</td>\n",
       "      <td>192</td>\n",
       "      <td>88</td>\n",
       "    </tr>\n",
       "    <tr>\n",
       "      <th>2315</th>\n",
       "      <td>666293911632134144</td>\n",
       "      <td>488</td>\n",
       "      <td>343</td>\n",
       "    </tr>\n",
       "    <tr>\n",
       "      <th>2316</th>\n",
       "      <td>666287406224695296</td>\n",
       "      <td>142</td>\n",
       "      <td>63</td>\n",
       "    </tr>\n",
       "    <tr>\n",
       "      <th>2317</th>\n",
       "      <td>666273097616637952</td>\n",
       "      <td>169</td>\n",
       "      <td>76</td>\n",
       "    </tr>\n",
       "    <tr>\n",
       "      <th>2318</th>\n",
       "      <td>666268910803644416</td>\n",
       "      <td>100</td>\n",
       "      <td>35</td>\n",
       "    </tr>\n",
       "    <tr>\n",
       "      <th>2319</th>\n",
       "      <td>666104133288665088</td>\n",
       "      <td>13954</td>\n",
       "      <td>6339</td>\n",
       "    </tr>\n",
       "    <tr>\n",
       "      <th>2320</th>\n",
       "      <td>666102155909144576</td>\n",
       "      <td>77</td>\n",
       "      <td>11</td>\n",
       "    </tr>\n",
       "    <tr>\n",
       "      <th>2321</th>\n",
       "      <td>666099513787052032</td>\n",
       "      <td>150</td>\n",
       "      <td>65</td>\n",
       "    </tr>\n",
       "    <tr>\n",
       "      <th>2322</th>\n",
       "      <td>666094000022159362</td>\n",
       "      <td>160</td>\n",
       "      <td>71</td>\n",
       "    </tr>\n",
       "    <tr>\n",
       "      <th>2323</th>\n",
       "      <td>666082916733198337</td>\n",
       "      <td>113</td>\n",
       "      <td>44</td>\n",
       "    </tr>\n",
       "    <tr>\n",
       "      <th>2324</th>\n",
       "      <td>666073100786774016</td>\n",
       "      <td>315</td>\n",
       "      <td>158</td>\n",
       "    </tr>\n",
       "    <tr>\n",
       "      <th>2325</th>\n",
       "      <td>666071193221509120</td>\n",
       "      <td>142</td>\n",
       "      <td>58</td>\n",
       "    </tr>\n",
       "    <tr>\n",
       "      <th>2326</th>\n",
       "      <td>666063827256086533</td>\n",
       "      <td>461</td>\n",
       "      <td>212</td>\n",
       "    </tr>\n",
       "    <tr>\n",
       "      <th>2327</th>\n",
       "      <td>666058600524156928</td>\n",
       "      <td>109</td>\n",
       "      <td>57</td>\n",
       "    </tr>\n",
       "    <tr>\n",
       "      <th>2328</th>\n",
       "      <td>666057090499244032</td>\n",
       "      <td>286</td>\n",
       "      <td>138</td>\n",
       "    </tr>\n",
       "    <tr>\n",
       "      <th>2329</th>\n",
       "      <td>666055525042405380</td>\n",
       "      <td>426</td>\n",
       "      <td>235</td>\n",
       "    </tr>\n",
       "    <tr>\n",
       "      <th>2330</th>\n",
       "      <td>666051853826850816</td>\n",
       "      <td>1189</td>\n",
       "      <td>827</td>\n",
       "    </tr>\n",
       "    <tr>\n",
       "      <th>2331</th>\n",
       "      <td>666050758794694657</td>\n",
       "      <td>130</td>\n",
       "      <td>57</td>\n",
       "    </tr>\n",
       "    <tr>\n",
       "      <th>2332</th>\n",
       "      <td>666049248165822465</td>\n",
       "      <td>105</td>\n",
       "      <td>42</td>\n",
       "    </tr>\n",
       "    <tr>\n",
       "      <th>2333</th>\n",
       "      <td>666044226329800704</td>\n",
       "      <td>289</td>\n",
       "      <td>136</td>\n",
       "    </tr>\n",
       "    <tr>\n",
       "      <th>2334</th>\n",
       "      <td>666033412701032449</td>\n",
       "      <td>121</td>\n",
       "      <td>43</td>\n",
       "    </tr>\n",
       "    <tr>\n",
       "      <th>2335</th>\n",
       "      <td>666029285002620928</td>\n",
       "      <td>125</td>\n",
       "      <td>46</td>\n",
       "    </tr>\n",
       "    <tr>\n",
       "      <th>2336</th>\n",
       "      <td>666020888022790149</td>\n",
       "      <td>2514</td>\n",
       "      <td>496</td>\n",
       "    </tr>\n",
       "  </tbody>\n",
       "</table>\n",
       "<p>2337 rows × 3 columns</p>\n",
       "</div>"
      ],
      "text/plain": [
       "                tweet_id  favorite_count  retweet_count\n",
       "0     892420643555336193           37611           8199\n",
       "1     892177421306343426           32319           6065\n",
       "2     891815181378084864           24353           4011\n",
       "3     891689557279858688           40935           8362\n",
       "4     891327558926688256           39145           9052\n",
       "5     891087950875897856           19679           3007\n",
       "6     890971913173991426           11510           1986\n",
       "7     890729181411237888           63445          18219\n",
       "8     890609185150312448           27066           4124\n",
       "9     890240255349198849           31011           7122\n",
       "10    890006608113172480           29824           7081\n",
       "11    889880896479866881           27044           4811\n",
       "12    889665388333682689           46764           9696\n",
       "13    889638837579907072           26368           4380\n",
       "14    889531135344209921           14703           2174\n",
       "15    889278841981685760           24551           5198\n",
       "16    888917238123831296           28321           4349\n",
       "17    888804989199671297           24846           4133\n",
       "18    888554962724278272           19281           3417\n",
       "19    888078434458587136           21164           3366\n",
       "20    887705289381826560           29370           5196\n",
       "21    887517139158093824           45012          11303\n",
       "22    887473957103951883           67033          17543\n",
       "23    887343217045368832           32739          10074\n",
       "24    887101392804085760           29733           5756\n",
       "25    886983233522544640           34150           7503\n",
       "26    886736880519319552           11705           3153\n",
       "27    886680336477933568           21829           4313\n",
       "28    886366144734445568           20607           3092\n",
       "29    886267009285017600             116              4\n",
       "...                  ...             ...            ...\n",
       "2307  666411507551481857             431            321\n",
       "2308  666407126856765440             105             38\n",
       "2309  666396247373291520             162             82\n",
       "2310  666373753744588802             183             88\n",
       "2311  666362758909284353             756            558\n",
       "2312  666353288456101888             213             71\n",
       "2313  666345417576210432             284            132\n",
       "2314  666337882303524864             192             88\n",
       "2315  666293911632134144             488            343\n",
       "2316  666287406224695296             142             63\n",
       "2317  666273097616637952             169             76\n",
       "2318  666268910803644416             100             35\n",
       "2319  666104133288665088           13954           6339\n",
       "2320  666102155909144576              77             11\n",
       "2321  666099513787052032             150             65\n",
       "2322  666094000022159362             160             71\n",
       "2323  666082916733198337             113             44\n",
       "2324  666073100786774016             315            158\n",
       "2325  666071193221509120             142             58\n",
       "2326  666063827256086533             461            212\n",
       "2327  666058600524156928             109             57\n",
       "2328  666057090499244032             286            138\n",
       "2329  666055525042405380             426            235\n",
       "2330  666051853826850816            1189            827\n",
       "2331  666050758794694657             130             57\n",
       "2332  666049248165822465             105             42\n",
       "2333  666044226329800704             289            136\n",
       "2334  666033412701032449             121             43\n",
       "2335  666029285002620928             125             46\n",
       "2336  666020888022790149            2514            496\n",
       "\n",
       "[2337 rows x 3 columns]"
      ]
     },
     "execution_count": 15,
     "metadata": {},
     "output_type": "execute_result"
    }
   ],
   "source": [
    "#Load the Twitter API data from the json file\n",
    "apiTweetData = pd.read_json('tweet_data_json.txt')\n",
    "#Concatenate tweet ids with their retrived data from the API\n",
    "apiTweetData['tweet_id'] = tweet_id_success\n",
    "#Show only the data we are intersted in wragling only as noted in the project key features\n",
    "apiTweetData = twitter2[['tweet_id', 'favorite_count', 'retweet_count']]\n",
    "apiTweetData"
   ]
  },
  {
   "cell_type": "markdown",
   "metadata": {},
   "source": [
    "# 2. Assessing data\n",
    "---\n",
    "Now I have got 3 diffrent data sources that I need to assess and understand the realtion between them.\n",
    "\n",
    "1. twitter-archive-enhanced.csv which is loaded in **weRateDogsArchive** variable.\n",
    "2. image_predictions.tsv which is loaded in **imagesPredictions** variable.\n",
    "3. tweet_data_json.txt which is loaded in **apiTweetData** variable.\n"
   ]
  },
  {
   "cell_type": "markdown",
   "metadata": {},
   "source": [
    "### 1. Starting with twitter-archive-enhanced.csv**"
   ]
  },
  {
   "cell_type": "code",
   "execution_count": 16,
   "metadata": {},
   "outputs": [
    {
     "data": {
      "text/html": [
       "<div>\n",
       "<style scoped>\n",
       "    .dataframe tbody tr th:only-of-type {\n",
       "        vertical-align: middle;\n",
       "    }\n",
       "\n",
       "    .dataframe tbody tr th {\n",
       "        vertical-align: top;\n",
       "    }\n",
       "\n",
       "    .dataframe thead th {\n",
       "        text-align: right;\n",
       "    }\n",
       "</style>\n",
       "<table border=\"1\" class=\"dataframe\">\n",
       "  <thead>\n",
       "    <tr style=\"text-align: right;\">\n",
       "      <th></th>\n",
       "      <th>tweet_id</th>\n",
       "      <th>in_reply_to_status_id</th>\n",
       "      <th>in_reply_to_user_id</th>\n",
       "      <th>timestamp</th>\n",
       "      <th>source</th>\n",
       "      <th>text</th>\n",
       "      <th>retweeted_status_id</th>\n",
       "      <th>retweeted_status_user_id</th>\n",
       "      <th>retweeted_status_timestamp</th>\n",
       "      <th>expanded_urls</th>\n",
       "      <th>rating_numerator</th>\n",
       "      <th>rating_denominator</th>\n",
       "      <th>name</th>\n",
       "      <th>doggo</th>\n",
       "      <th>floofer</th>\n",
       "      <th>pupper</th>\n",
       "      <th>puppo</th>\n",
       "    </tr>\n",
       "  </thead>\n",
       "  <tbody>\n",
       "    <tr>\n",
       "      <th>490</th>\n",
       "      <td>813812741911748608</td>\n",
       "      <td>NaN</td>\n",
       "      <td>NaN</td>\n",
       "      <td>2016-12-27 18:24:12 +0000</td>\n",
       "      <td>&lt;a href=\"http://twitter.com/download/iphone\" r...</td>\n",
       "      <td>Meet Gary, Carrie Fisher's dog. Idk what I can...</td>\n",
       "      <td>NaN</td>\n",
       "      <td>NaN</td>\n",
       "      <td>NaN</td>\n",
       "      <td>https://twitter.com/dog_rates/status/813812741...</td>\n",
       "      <td>14</td>\n",
       "      <td>10</td>\n",
       "      <td>Gary</td>\n",
       "      <td>None</td>\n",
       "      <td>None</td>\n",
       "      <td>None</td>\n",
       "      <td>None</td>\n",
       "    </tr>\n",
       "    <tr>\n",
       "      <th>2109</th>\n",
       "      <td>670449342516494336</td>\n",
       "      <td>NaN</td>\n",
       "      <td>NaN</td>\n",
       "      <td>2015-11-28 03:49:14 +0000</td>\n",
       "      <td>&lt;a href=\"http://twitter.com/download/iphone\" r...</td>\n",
       "      <td>Vibrant dog here. Fabulous tail. Only 2 legs t...</td>\n",
       "      <td>NaN</td>\n",
       "      <td>NaN</td>\n",
       "      <td>NaN</td>\n",
       "      <td>https://twitter.com/dog_rates/status/670449342...</td>\n",
       "      <td>5</td>\n",
       "      <td>10</td>\n",
       "      <td>None</td>\n",
       "      <td>None</td>\n",
       "      <td>None</td>\n",
       "      <td>None</td>\n",
       "      <td>None</td>\n",
       "    </tr>\n",
       "    <tr>\n",
       "      <th>1201</th>\n",
       "      <td>716447146686459905</td>\n",
       "      <td>NaN</td>\n",
       "      <td>NaN</td>\n",
       "      <td>2016-04-03 02:08:05 +0000</td>\n",
       "      <td>&lt;a href=\"http://vine.co\" rel=\"nofollow\"&gt;Vine -...</td>\n",
       "      <td>This is Ozzy. He's acrobatic af. Legendary pup...</td>\n",
       "      <td>NaN</td>\n",
       "      <td>NaN</td>\n",
       "      <td>NaN</td>\n",
       "      <td>https://vine.co/v/eMmXVPn5eQK</td>\n",
       "      <td>13</td>\n",
       "      <td>10</td>\n",
       "      <td>Ozzy</td>\n",
       "      <td>None</td>\n",
       "      <td>None</td>\n",
       "      <td>pupper</td>\n",
       "      <td>None</td>\n",
       "    </tr>\n",
       "    <tr>\n",
       "      <th>85</th>\n",
       "      <td>876120275196170240</td>\n",
       "      <td>NaN</td>\n",
       "      <td>NaN</td>\n",
       "      <td>2017-06-17 16:52:05 +0000</td>\n",
       "      <td>&lt;a href=\"http://twitter.com/download/iphone\" r...</td>\n",
       "      <td>Meet Venti, a seemingly caffeinated puppoccino...</td>\n",
       "      <td>NaN</td>\n",
       "      <td>NaN</td>\n",
       "      <td>NaN</td>\n",
       "      <td>https://twitter.com/dog_rates/status/876120275...</td>\n",
       "      <td>13</td>\n",
       "      <td>10</td>\n",
       "      <td>Venti</td>\n",
       "      <td>None</td>\n",
       "      <td>None</td>\n",
       "      <td>None</td>\n",
       "      <td>None</td>\n",
       "    </tr>\n",
       "    <tr>\n",
       "      <th>1841</th>\n",
       "      <td>675878199931371520</td>\n",
       "      <td>NaN</td>\n",
       "      <td>NaN</td>\n",
       "      <td>2015-12-13 03:21:34 +0000</td>\n",
       "      <td>&lt;a href=\"http://twitter.com/download/iphone\" r...</td>\n",
       "      <td>Ok, I'll admit this is a pretty adorable bunny...</td>\n",
       "      <td>NaN</td>\n",
       "      <td>NaN</td>\n",
       "      <td>NaN</td>\n",
       "      <td>https://twitter.com/dog_rates/status/675878199...</td>\n",
       "      <td>11</td>\n",
       "      <td>10</td>\n",
       "      <td>None</td>\n",
       "      <td>None</td>\n",
       "      <td>None</td>\n",
       "      <td>None</td>\n",
       "      <td>None</td>\n",
       "    </tr>\n",
       "  </tbody>\n",
       "</table>\n",
       "</div>"
      ],
      "text/plain": [
       "                tweet_id  in_reply_to_status_id  in_reply_to_user_id  \\\n",
       "490   813812741911748608                    NaN                  NaN   \n",
       "2109  670449342516494336                    NaN                  NaN   \n",
       "1201  716447146686459905                    NaN                  NaN   \n",
       "85    876120275196170240                    NaN                  NaN   \n",
       "1841  675878199931371520                    NaN                  NaN   \n",
       "\n",
       "                      timestamp  \\\n",
       "490   2016-12-27 18:24:12 +0000   \n",
       "2109  2015-11-28 03:49:14 +0000   \n",
       "1201  2016-04-03 02:08:05 +0000   \n",
       "85    2017-06-17 16:52:05 +0000   \n",
       "1841  2015-12-13 03:21:34 +0000   \n",
       "\n",
       "                                                 source  \\\n",
       "490   <a href=\"http://twitter.com/download/iphone\" r...   \n",
       "2109  <a href=\"http://twitter.com/download/iphone\" r...   \n",
       "1201  <a href=\"http://vine.co\" rel=\"nofollow\">Vine -...   \n",
       "85    <a href=\"http://twitter.com/download/iphone\" r...   \n",
       "1841  <a href=\"http://twitter.com/download/iphone\" r...   \n",
       "\n",
       "                                                   text  retweeted_status_id  \\\n",
       "490   Meet Gary, Carrie Fisher's dog. Idk what I can...                  NaN   \n",
       "2109  Vibrant dog here. Fabulous tail. Only 2 legs t...                  NaN   \n",
       "1201  This is Ozzy. He's acrobatic af. Legendary pup...                  NaN   \n",
       "85    Meet Venti, a seemingly caffeinated puppoccino...                  NaN   \n",
       "1841  Ok, I'll admit this is a pretty adorable bunny...                  NaN   \n",
       "\n",
       "      retweeted_status_user_id retweeted_status_timestamp  \\\n",
       "490                        NaN                        NaN   \n",
       "2109                       NaN                        NaN   \n",
       "1201                       NaN                        NaN   \n",
       "85                         NaN                        NaN   \n",
       "1841                       NaN                        NaN   \n",
       "\n",
       "                                          expanded_urls  rating_numerator  \\\n",
       "490   https://twitter.com/dog_rates/status/813812741...                14   \n",
       "2109  https://twitter.com/dog_rates/status/670449342...                 5   \n",
       "1201                      https://vine.co/v/eMmXVPn5eQK                13   \n",
       "85    https://twitter.com/dog_rates/status/876120275...                13   \n",
       "1841  https://twitter.com/dog_rates/status/675878199...                11   \n",
       "\n",
       "      rating_denominator   name doggo floofer  pupper puppo  \n",
       "490                   10   Gary  None    None    None  None  \n",
       "2109                  10   None  None    None    None  None  \n",
       "1201                  10   Ozzy  None    None  pupper  None  \n",
       "85                    10  Venti  None    None    None  None  \n",
       "1841                  10   None  None    None    None  None  "
      ]
     },
     "execution_count": 16,
     "metadata": {},
     "output_type": "execute_result"
    }
   ],
   "source": [
    "#lets have a random sample of 5 rows to observe\n",
    "weRateDogsArchive.sample(5)"
   ]
  },
  {
   "cell_type": "markdown",
   "metadata": {},
   "source": [
    "What I can cnosider valuable in this data are:\n",
    "---\n",
    "* tweet_id which we can build a relation with the data we retrived from the API\n",
    "* soruce from what I understand it's the device were used to tweet with\n",
    "* rating_numerator and rating_denominator which can use to get the dogs ratings\n",
    "* name and nicknames \"doggo, floofer, pupper and puppo\"\n",
    "* text the tweet caption "
   ]
  },
  {
   "cell_type": "code",
   "execution_count": 18,
   "metadata": {},
   "outputs": [
    {
     "name": "stdout",
     "output_type": "stream",
     "text": [
      "<class 'pandas.core.frame.DataFrame'>\n",
      "RangeIndex: 2356 entries, 0 to 2355\n",
      "Data columns (total 17 columns):\n",
      "tweet_id                      2356 non-null int64\n",
      "in_reply_to_status_id         78 non-null float64\n",
      "in_reply_to_user_id           78 non-null float64\n",
      "timestamp                     2356 non-null object\n",
      "source                        2356 non-null object\n",
      "text                          2356 non-null object\n",
      "retweeted_status_id           181 non-null float64\n",
      "retweeted_status_user_id      181 non-null float64\n",
      "retweeted_status_timestamp    181 non-null object\n",
      "expanded_urls                 2297 non-null object\n",
      "rating_numerator              2356 non-null int64\n",
      "rating_denominator            2356 non-null int64\n",
      "name                          2356 non-null object\n",
      "doggo                         2356 non-null object\n",
      "floofer                       2356 non-null object\n",
      "pupper                        2356 non-null object\n",
      "puppo                         2356 non-null object\n",
      "dtypes: float64(4), int64(3), object(10)\n",
      "memory usage: 313.0+ KB\n"
     ]
    }
   ],
   "source": [
    "#lets have a look into the index range, number of columns and the datatypes of the data of each column\n",
    "weRateDogsArchive.info()"
   ]
  },
  {
   "cell_type": "markdown",
   "metadata": {},
   "source": [
    "We can confirm that some rows have null values.\n",
    "But none of what I consider valuable got null values.\n",
    "\n",
    "---\n",
    "### Checking for the unqiue rows and their numbers"
   ]
  },
  {
   "cell_type": "code",
   "execution_count": 19,
   "metadata": {},
   "outputs": [
    {
     "data": {
      "text/plain": [
       "<a href=\"http://twitter.com/download/iphone\" rel=\"nofollow\">Twitter for iPhone</a>     2221\n",
       "<a href=\"http://vine.co\" rel=\"nofollow\">Vine - Make a Scene</a>                          91\n",
       "<a href=\"http://twitter.com\" rel=\"nofollow\">Twitter Web Client</a>                       33\n",
       "<a href=\"https://about.twitter.com/products/tweetdeck\" rel=\"nofollow\">TweetDeck</a>      11\n",
       "Name: source, dtype: int64"
      ]
     },
     "execution_count": 19,
     "metadata": {},
     "output_type": "execute_result"
    }
   ],
   "source": [
    "#lets have a look into tweet sources\n",
    "weRateDogsArchive['source'].value_counts()"
   ]
  },
  {
   "cell_type": "markdown",
   "metadata": {},
   "source": [
    "We can confirm that most of the tweets were tweeted twitter app from iPhone devices."
   ]
  },
  {
   "cell_type": "code",
   "execution_count": 20,
   "metadata": {},
   "outputs": [
    {
     "data": {
      "text/plain": [
       "12      558\n",
       "11      464\n",
       "10      461\n",
       "13      351\n",
       "9       158\n",
       "8       102\n",
       "7        55\n",
       "14       54\n",
       "5        37\n",
       "6        32\n",
       "3        19\n",
       "4        17\n",
       "1         9\n",
       "2         9\n",
       "420       2\n",
       "0         2\n",
       "15        2\n",
       "75        2\n",
       "80        1\n",
       "20        1\n",
       "24        1\n",
       "26        1\n",
       "44        1\n",
       "50        1\n",
       "60        1\n",
       "165       1\n",
       "84        1\n",
       "88        1\n",
       "144       1\n",
       "182       1\n",
       "143       1\n",
       "666       1\n",
       "960       1\n",
       "1776      1\n",
       "17        1\n",
       "27        1\n",
       "45        1\n",
       "99        1\n",
       "121       1\n",
       "204       1\n",
       "Name: rating_numerator, dtype: int64"
      ]
     },
     "execution_count": 20,
     "metadata": {},
     "output_type": "execute_result"
    }
   ],
   "source": [
    "weRateDogsArchive['rating_numerator'].value_counts()"
   ]
  },
  {
   "cell_type": "markdown",
   "metadata": {},
   "source": [
    "Woah... wait a second.\n",
    "\n",
    "According to the project overview the rating numerator should always greater than 10 Because \"they're good dogs Brent.\"\n",
    "\n",
    "This point should be kept in mind when we reach cleaning the dataset phase.\n",
    "\n",
    "I don't want to be like brent but also we might neglect the numbers which is greater than 20 because it might be outliers."
   ]
  },
  {
   "cell_type": "code",
   "execution_count": 21,
   "metadata": {},
   "outputs": [
    {
     "data": {
      "text/plain": [
       "10     2333\n",
       "11        3\n",
       "50        3\n",
       "80        2\n",
       "20        2\n",
       "2         1\n",
       "16        1\n",
       "40        1\n",
       "70        1\n",
       "15        1\n",
       "90        1\n",
       "110       1\n",
       "120       1\n",
       "130       1\n",
       "150       1\n",
       "170       1\n",
       "7         1\n",
       "0         1\n",
       "Name: rating_denominator, dtype: int64"
      ]
     },
     "execution_count": 21,
     "metadata": {},
     "output_type": "execute_result"
    }
   ],
   "source": [
    "#Time to check the denominator\n",
    "weRateDogsArchive['rating_denominator'].value_counts()"
   ]
  },
  {
   "cell_type": "markdown",
   "metadata": {},
   "source": [
    "Well same goes here according to the project overview the denominator is always 10 anything beside that is noise that we will take care in data cleaning phase."
   ]
  },
  {
   "cell_type": "code",
   "execution_count": 25,
   "metadata": {},
   "outputs": [
    {
     "data": {
      "text/plain": [
       "None     2326\n",
       "puppo      30\n",
       "Name: puppo, dtype: int64"
      ]
     },
     "execution_count": 25,
     "metadata": {},
     "output_type": "execute_result"
    }
   ],
   "source": [
    "weRateDogsArchive['puppo'].value_counts()"
   ]
  },
  {
   "cell_type": "code",
   "execution_count": 26,
   "metadata": {},
   "outputs": [
    {
     "data": {
      "text/plain": [
       "None      2099\n",
       "pupper     257\n",
       "Name: pupper, dtype: int64"
      ]
     },
     "execution_count": 26,
     "metadata": {},
     "output_type": "execute_result"
    }
   ],
   "source": [
    "weRateDogsArchive['pupper'].value_counts()"
   ]
  },
  {
   "cell_type": "code",
   "execution_count": 27,
   "metadata": {},
   "outputs": [
    {
     "data": {
      "text/plain": [
       "None       2346\n",
       "floofer      10\n",
       "Name: floofer, dtype: int64"
      ]
     },
     "execution_count": 27,
     "metadata": {},
     "output_type": "execute_result"
    }
   ],
   "source": [
    "weRateDogsArchive['floofer'].value_counts()"
   ]
  },
  {
   "cell_type": "code",
   "execution_count": 28,
   "metadata": {},
   "outputs": [
    {
     "data": {
      "text/plain": [
       "None     2259\n",
       "doggo      97\n",
       "Name: doggo, dtype: int64"
      ]
     },
     "execution_count": 28,
     "metadata": {},
     "output_type": "execute_result"
    }
   ],
   "source": [
    "weRateDogsArchive['doggo'].value_counts()"
   ]
  },
  {
   "cell_type": "markdown",
   "metadata": {},
   "source": [
    "Well seems that everything is in order with our cute little dogs nicknames."
   ]
  },
  {
   "cell_type": "code",
   "execution_count": 30,
   "metadata": {},
   "outputs": [
    {
     "data": {
      "text/plain": [
       "None         745\n",
       "a             55\n",
       "Charlie       12\n",
       "Lucy          11\n",
       "Cooper        11\n",
       "Oliver        11\n",
       "Lola          10\n",
       "Penny         10\n",
       "Tucker        10\n",
       "Bo             9\n",
       "Winston        9\n",
       "Sadie          8\n",
       "the            8\n",
       "Daisy          7\n",
       "an             7\n",
       "Bailey         7\n",
       "Toby           7\n",
       "Buddy          7\n",
       "Dave           6\n",
       "Scout          6\n",
       "Bella          6\n",
       "Koda           6\n",
       "Milo           6\n",
       "Oscar          6\n",
       "Leo            6\n",
       "Stanley        6\n",
       "Jack           6\n",
       "Rusty          6\n",
       "Jax            6\n",
       "Sammy          5\n",
       "            ... \n",
       "Herb           1\n",
       "Kingsley       1\n",
       "Rueben         1\n",
       "Comet          1\n",
       "Rose           1\n",
       "Lambeau        1\n",
       "Kobe           1\n",
       "Scruffers      1\n",
       "Kial           1\n",
       "Travis         1\n",
       "Ronnie         1\n",
       "Howie          1\n",
       "Staniel        1\n",
       "Wesley         1\n",
       "Kody           1\n",
       "Storkson       1\n",
       "Bruno          1\n",
       "Severus        1\n",
       "Dotsy          1\n",
       "Kulet          1\n",
       "Blakely        1\n",
       "Clarkus        1\n",
       "Goose          1\n",
       "Hazel          1\n",
       "Filup          1\n",
       "Edd            1\n",
       "Dante          1\n",
       "Crimson        1\n",
       "Duddles        1\n",
       "Cal            1\n",
       "Name: name, Length: 957, dtype: int64"
      ]
     },
     "execution_count": 30,
     "metadata": {},
     "output_type": "execute_result"
    }
   ],
   "source": [
    "#checking dogs name for unreasonable assigned names\n",
    "weRateDogsArchive['name'].value_counts()"
   ]
  },
  {
   "cell_type": "markdown",
   "metadata": {},
   "source": [
    "We can see that there is some dogs that have unreasonable names like \"a, my, an\" we will check these names in data cleaning phase.\n",
    "\n",
    "---\n",
    "\n",
    "### 2. image_predictions.tsv\n",
    "I will use the same method I used above to asses the image_predictions dataset"
   ]
  },
  {
   "cell_type": "code",
   "execution_count": 31,
   "metadata": {},
   "outputs": [
    {
     "data": {
      "text/html": [
       "<div>\n",
       "<style scoped>\n",
       "    .dataframe tbody tr th:only-of-type {\n",
       "        vertical-align: middle;\n",
       "    }\n",
       "\n",
       "    .dataframe tbody tr th {\n",
       "        vertical-align: top;\n",
       "    }\n",
       "\n",
       "    .dataframe thead th {\n",
       "        text-align: right;\n",
       "    }\n",
       "</style>\n",
       "<table border=\"1\" class=\"dataframe\">\n",
       "  <thead>\n",
       "    <tr style=\"text-align: right;\">\n",
       "      <th></th>\n",
       "      <th>tweet_id</th>\n",
       "      <th>jpg_url</th>\n",
       "      <th>img_num</th>\n",
       "      <th>p1</th>\n",
       "      <th>p1_conf</th>\n",
       "      <th>p1_dog</th>\n",
       "      <th>p2</th>\n",
       "      <th>p2_conf</th>\n",
       "      <th>p2_dog</th>\n",
       "      <th>p3</th>\n",
       "      <th>p3_conf</th>\n",
       "      <th>p3_dog</th>\n",
       "    </tr>\n",
       "  </thead>\n",
       "  <tbody>\n",
       "    <tr>\n",
       "      <th>1136</th>\n",
       "      <td>728760639972315136</td>\n",
       "      <td>https://pbs.twimg.com/media/Ch0T71OWMAA4yIw.jpg</td>\n",
       "      <td>1</td>\n",
       "      <td>Pembroke</td>\n",
       "      <td>0.939134</td>\n",
       "      <td>True</td>\n",
       "      <td>Cardigan</td>\n",
       "      <td>0.054336</td>\n",
       "      <td>True</td>\n",
       "      <td>Chihuahua</td>\n",
       "      <td>0.005590</td>\n",
       "      <td>True</td>\n",
       "    </tr>\n",
       "    <tr>\n",
       "      <th>289</th>\n",
       "      <td>671163268581498880</td>\n",
       "      <td>https://pbs.twimg.com/media/CVBzbWsWsAEyNMA.jpg</td>\n",
       "      <td>1</td>\n",
       "      <td>African_hunting_dog</td>\n",
       "      <td>0.733025</td>\n",
       "      <td>False</td>\n",
       "      <td>plow</td>\n",
       "      <td>0.119377</td>\n",
       "      <td>False</td>\n",
       "      <td>Scottish_deerhound</td>\n",
       "      <td>0.026983</td>\n",
       "      <td>True</td>\n",
       "    </tr>\n",
       "    <tr>\n",
       "      <th>1735</th>\n",
       "      <td>821765923262631936</td>\n",
       "      <td>https://pbs.twimg.com/media/C2d_vnHWEAE9phX.jpg</td>\n",
       "      <td>1</td>\n",
       "      <td>golden_retriever</td>\n",
       "      <td>0.980071</td>\n",
       "      <td>True</td>\n",
       "      <td>Labrador_retriever</td>\n",
       "      <td>0.008758</td>\n",
       "      <td>True</td>\n",
       "      <td>Saluki</td>\n",
       "      <td>0.001806</td>\n",
       "      <td>True</td>\n",
       "    </tr>\n",
       "    <tr>\n",
       "      <th>1689</th>\n",
       "      <td>815639385530101762</td>\n",
       "      <td>https://pbs.twimg.com/media/C1G7sXyWIAA10eH.jpg</td>\n",
       "      <td>1</td>\n",
       "      <td>German_shepherd</td>\n",
       "      <td>0.817953</td>\n",
       "      <td>True</td>\n",
       "      <td>Norwegian_elkhound</td>\n",
       "      <td>0.140007</td>\n",
       "      <td>True</td>\n",
       "      <td>malinois</td>\n",
       "      <td>0.024821</td>\n",
       "      <td>True</td>\n",
       "    </tr>\n",
       "    <tr>\n",
       "      <th>1010</th>\n",
       "      <td>709409458133323776</td>\n",
       "      <td>https://pbs.twimg.com/media/CdhUIMSUIAA4wYK.jpg</td>\n",
       "      <td>1</td>\n",
       "      <td>Shetland_sheepdog</td>\n",
       "      <td>0.797450</td>\n",
       "      <td>True</td>\n",
       "      <td>collie</td>\n",
       "      <td>0.054055</td>\n",
       "      <td>True</td>\n",
       "      <td>keeshond</td>\n",
       "      <td>0.031673</td>\n",
       "      <td>True</td>\n",
       "    </tr>\n",
       "  </tbody>\n",
       "</table>\n",
       "</div>"
      ],
      "text/plain": [
       "                tweet_id                                          jpg_url  \\\n",
       "1136  728760639972315136  https://pbs.twimg.com/media/Ch0T71OWMAA4yIw.jpg   \n",
       "289   671163268581498880  https://pbs.twimg.com/media/CVBzbWsWsAEyNMA.jpg   \n",
       "1735  821765923262631936  https://pbs.twimg.com/media/C2d_vnHWEAE9phX.jpg   \n",
       "1689  815639385530101762  https://pbs.twimg.com/media/C1G7sXyWIAA10eH.jpg   \n",
       "1010  709409458133323776  https://pbs.twimg.com/media/CdhUIMSUIAA4wYK.jpg   \n",
       "\n",
       "      img_num                   p1   p1_conf  p1_dog                  p2  \\\n",
       "1136        1             Pembroke  0.939134    True            Cardigan   \n",
       "289         1  African_hunting_dog  0.733025   False                plow   \n",
       "1735        1     golden_retriever  0.980071    True  Labrador_retriever   \n",
       "1689        1      German_shepherd  0.817953    True  Norwegian_elkhound   \n",
       "1010        1    Shetland_sheepdog  0.797450    True              collie   \n",
       "\n",
       "       p2_conf  p2_dog                  p3   p3_conf  p3_dog  \n",
       "1136  0.054336    True           Chihuahua  0.005590    True  \n",
       "289   0.119377   False  Scottish_deerhound  0.026983    True  \n",
       "1735  0.008758    True              Saluki  0.001806    True  \n",
       "1689  0.140007    True            malinois  0.024821    True  \n",
       "1010  0.054055    True            keeshond  0.031673    True  "
      ]
     },
     "execution_count": 31,
     "metadata": {},
     "output_type": "execute_result"
    }
   ],
   "source": [
    "imagesPredictions.sample(5)"
   ]
  },
  {
   "cell_type": "code",
   "execution_count": 32,
   "metadata": {},
   "outputs": [
    {
     "name": "stdout",
     "output_type": "stream",
     "text": [
      "<class 'pandas.core.frame.DataFrame'>\n",
      "RangeIndex: 2075 entries, 0 to 2074\n",
      "Data columns (total 12 columns):\n",
      "tweet_id    2075 non-null int64\n",
      "jpg_url     2075 non-null object\n",
      "img_num     2075 non-null int64\n",
      "p1          2075 non-null object\n",
      "p1_conf     2075 non-null float64\n",
      "p1_dog      2075 non-null bool\n",
      "p2          2075 non-null object\n",
      "p2_conf     2075 non-null float64\n",
      "p2_dog      2075 non-null bool\n",
      "p3          2075 non-null object\n",
      "p3_conf     2075 non-null float64\n",
      "p3_dog      2075 non-null bool\n",
      "dtypes: bool(3), float64(3), int64(2), object(4)\n",
      "memory usage: 152.1+ KB\n"
     ]
    }
   ],
   "source": [
    "imagesPredictions.info()"
   ]
  },
  {
   "cell_type": "code",
   "execution_count": 35,
   "metadata": {},
   "outputs": [
    {
     "data": {
      "text/plain": [
       "golden_retriever             150\n",
       "Labrador_retriever           100\n",
       "Pembroke                      89\n",
       "Chihuahua                     83\n",
       "pug                           57\n",
       "chow                          44\n",
       "Samoyed                       43\n",
       "toy_poodle                    39\n",
       "Pomeranian                    38\n",
       "malamute                      30\n",
       "cocker_spaniel                30\n",
       "French_bulldog                26\n",
       "miniature_pinscher            23\n",
       "Chesapeake_Bay_retriever      23\n",
       "seat_belt                     22\n",
       "Staffordshire_bullterrier     20\n",
       "Siberian_husky                20\n",
       "German_shepherd               20\n",
       "web_site                      19\n",
       "Cardigan                      19\n",
       "Maltese_dog                   18\n",
       "teddy                         18\n",
       "Shetland_sheepdog             18\n",
       "Eskimo_dog                    18\n",
       "beagle                        18\n",
       "Shih-Tzu                      17\n",
       "Lakeland_terrier              17\n",
       "Rottweiler                    17\n",
       "kuvasz                        16\n",
       "Italian_greyhound             16\n",
       "                            ... \n",
       "fountain                       1\n",
       "washer                         1\n",
       "groenendael                    1\n",
       "bib                            1\n",
       "wooden_spoon                   1\n",
       "three-toed_sloth               1\n",
       "coho                           1\n",
       "guenon                         1\n",
       "terrapin                       1\n",
       "flamingo                       1\n",
       "sundial                        1\n",
       "bannister                      1\n",
       "microwave                      1\n",
       "wild_boar                      1\n",
       "bakery                         1\n",
       "clog                           1\n",
       "studio_couch                   1\n",
       "envelope                       1\n",
       "military_uniform               1\n",
       "robin                          1\n",
       "African_hunting_dog            1\n",
       "rapeseed                       1\n",
       "carousel                       1\n",
       "stove                          1\n",
       "barbell                        1\n",
       "bookshop                       1\n",
       "starfish                       1\n",
       "cougar                         1\n",
       "banana                         1\n",
       "American_black_bear            1\n",
       "Name: p1, Length: 378, dtype: int64"
      ]
     },
     "execution_count": 35,
     "metadata": {},
     "output_type": "execute_result"
    }
   ],
   "source": [
    "imagesPredictions['p1'].value_counts()"
   ]
  },
  {
   "cell_type": "markdown",
   "metadata": {},
   "source": [
    "**The majority of p1 which waspredicted by the nueral network was golden_retriever.**"
   ]
  },
  {
   "cell_type": "code",
   "execution_count": 36,
   "metadata": {},
   "outputs": [
    {
     "data": {
      "text/plain": [
       "Labrador_retriever                104\n",
       "golden_retriever                   92\n",
       "Cardigan                           73\n",
       "Chihuahua                          44\n",
       "Pomeranian                         42\n",
       "Chesapeake_Bay_retriever           41\n",
       "French_bulldog                     41\n",
       "toy_poodle                         37\n",
       "cocker_spaniel                     34\n",
       "Siberian_husky                     33\n",
       "miniature_poodle                   33\n",
       "beagle                             28\n",
       "Pembroke                           27\n",
       "collie                             27\n",
       "Eskimo_dog                         27\n",
       "kuvasz                             26\n",
       "Italian_greyhound                  22\n",
       "American_Staffordshire_terrier     21\n",
       "Pekinese                           21\n",
       "Samoyed                            20\n",
       "malinois                           20\n",
       "toy_terrier                        20\n",
       "miniature_pinscher                 20\n",
       "chow                               20\n",
       "Boston_bull                        19\n",
       "Norwegian_elkhound                 19\n",
       "Staffordshire_bullterrier          18\n",
       "pug                                17\n",
       "Irish_terrier                      17\n",
       "Shih-Tzu                           16\n",
       "                                 ... \n",
       "rule                                1\n",
       "mailbox                             1\n",
       "drake                               1\n",
       "cornet                              1\n",
       "moped                               1\n",
       "cab                                 1\n",
       "quail                               1\n",
       "common_newt                         1\n",
       "lifeboat                            1\n",
       "umbrella                            1\n",
       "Japanese_spaniel                    1\n",
       "computer_keyboard                   1\n",
       "leafhopper                          1\n",
       "hatchet                             1\n",
       "maillot                             1\n",
       "breastplate                         1\n",
       "confectionery                       1\n",
       "shoji                               1\n",
       "lesser_panda                        1\n",
       "trench_coat                         1\n",
       "wood_rabbit                         1\n",
       "dugong                              1\n",
       "platypus                            1\n",
       "spatula                             1\n",
       "patio                               1\n",
       "ice_lolly                           1\n",
       "giant_panda                         1\n",
       "grey_fox                            1\n",
       "water_bottle                        1\n",
       "barracouta                          1\n",
       "Name: p2, Length: 405, dtype: int64"
      ]
     },
     "execution_count": 36,
     "metadata": {},
     "output_type": "execute_result"
    }
   ],
   "source": [
    "imagesPredictions['p2'].value_counts()"
   ]
  },
  {
   "cell_type": "markdown",
   "metadata": {},
   "source": [
    "**The majority of p2 which waspredicted by the nueral network was Labrador_retriever.**"
   ]
  },
  {
   "cell_type": "markdown",
   "metadata": {},
   "source": [
    "### 3. tweet_data_json.txt\n",
    "I will use the same method I used above to asses the tweet_data_json dataset"
   ]
  },
  {
   "cell_type": "code",
   "execution_count": 37,
   "metadata": {},
   "outputs": [
    {
     "data": {
      "text/html": [
       "<div>\n",
       "<style scoped>\n",
       "    .dataframe tbody tr th:only-of-type {\n",
       "        vertical-align: middle;\n",
       "    }\n",
       "\n",
       "    .dataframe tbody tr th {\n",
       "        vertical-align: top;\n",
       "    }\n",
       "\n",
       "    .dataframe thead th {\n",
       "        text-align: right;\n",
       "    }\n",
       "</style>\n",
       "<table border=\"1\" class=\"dataframe\">\n",
       "  <thead>\n",
       "    <tr style=\"text-align: right;\">\n",
       "      <th></th>\n",
       "      <th>tweet_id</th>\n",
       "      <th>favorite_count</th>\n",
       "      <th>retweet_count</th>\n",
       "    </tr>\n",
       "  </thead>\n",
       "  <tbody>\n",
       "    <tr>\n",
       "      <th>1675</th>\n",
       "      <td>681297372102656000</td>\n",
       "      <td>3322</td>\n",
       "      <td>1014</td>\n",
       "    </tr>\n",
       "    <tr>\n",
       "      <th>1237</th>\n",
       "      <td>710609963652087808</td>\n",
       "      <td>4955</td>\n",
       "      <td>2473</td>\n",
       "    </tr>\n",
       "    <tr>\n",
       "      <th>647</th>\n",
       "      <td>790987426131050500</td>\n",
       "      <td>10456</td>\n",
       "      <td>2312</td>\n",
       "    </tr>\n",
       "    <tr>\n",
       "      <th>449</th>\n",
       "      <td>817502432452313088</td>\n",
       "      <td>0</td>\n",
       "      <td>3658</td>\n",
       "    </tr>\n",
       "    <tr>\n",
       "      <th>2097</th>\n",
       "      <td>670427002554466305</td>\n",
       "      <td>522</td>\n",
       "      <td>166</td>\n",
       "    </tr>\n",
       "  </tbody>\n",
       "</table>\n",
       "</div>"
      ],
      "text/plain": [
       "                tweet_id  favorite_count  retweet_count\n",
       "1675  681297372102656000            3322           1014\n",
       "1237  710609963652087808            4955           2473\n",
       "647   790987426131050500           10456           2312\n",
       "449   817502432452313088               0           3658\n",
       "2097  670427002554466305             522            166"
      ]
     },
     "execution_count": 37,
     "metadata": {},
     "output_type": "execute_result"
    }
   ],
   "source": [
    "apiTweetData.sample(5)"
   ]
  },
  {
   "cell_type": "code",
   "execution_count": 38,
   "metadata": {},
   "outputs": [
    {
     "name": "stdout",
     "output_type": "stream",
     "text": [
      "<class 'pandas.core.frame.DataFrame'>\n",
      "RangeIndex: 2337 entries, 0 to 2336\n",
      "Data columns (total 3 columns):\n",
      "tweet_id          2337 non-null int64\n",
      "favorite_count    2337 non-null int64\n",
      "retweet_count     2337 non-null int64\n",
      "dtypes: int64(3)\n",
      "memory usage: 54.9 KB\n"
     ]
    }
   ],
   "source": [
    "apiTweetData.info()"
   ]
  },
  {
   "cell_type": "markdown",
   "metadata": {},
   "source": [
    "# Cleaning Data\n",
    "After we gathered and assessed the given data we now can determine what quality and tidiness issues we found and what we will fix.\n",
    "\n",
    "**(Note: not all the issues will be fixed 8 quailty issues and 2 tidiness only will be addressed)**\n",
    "\n",
    "### Quality Issues\n",
    ">1. twitter-archive-enhanced.csv **weRateDogsArchive**\n",
    ">>1. According to the project key features we do not need retweets so we will remove the retweets (ie. rows where retweeted_status_id and retweeted_status_user_id have a number instead of NaN)\n",
    ">>2. I have decided what columns that I will by using for analysis in Assising data phase, so I will remove the columns that I will not be using.\n",
    ">>3. In assising data when I was trying to figure the unique counts of the numerator I found that some rows violate the rating rules (eg; some ratings with decimals such as 13.5/10, 9.5/10 have been incorrectly exported as 5/10 (in addition to other numbers with decimals such as 11.26 and 11.27)..\n",
    ">>4. Same goes for the denominator column.\n",
    ">>5. Name has values that are the string \"None\" instead of NaN\n",
    ">>6. Timestamp and retweeted_status_timestamp are currently of type 'object' instead of datetime\n",
    ">>7. Some names are inaccurate such as \"a\", \"an\" and many more maybe because the method that were used to extract the names took the word after sentences like \"This is ......\" and \"Here is ......\" which made some noisy data.\n",
    ">>8. It took me some time to get the idea behind their rating system because it's not unstandardized so I suppouse reading those rating in form of decimal is way better than reading 2 numbers dividing each others, so I will add new column for rating that caclute this equation.\n",
    "\n",
    ">2. image_predictions.tsv **imagesPredictions**\n",
    ">>1. p1, p2, and p3 sperated by underscore instead of space\n",
    ">>2. There are 2356 tweets weRateDogsArchive and 2075 rows in imagesPredictions which means some data maybe missing.\n",
    "\n",
    ">3. tweet_data_json.txt **apiTweetData**.\n",
    ">>1. There are 19 missing tweets that we caught while querying twitter API, maybe there were deleted or wrongly stored on our enhanced dataset.\n",
    "\n",
    "### Tidiness Issues\n",
    ">1. twitter-archive-enhanced.csv **weRateDogsArchive**\n",
    ">>1. Dog stage \"nicknames\" are sperated across 4 columns instead of one.\n",
    "\n",
    ">2. image_predictions.tsv **imagesPredictions**\n",
    ">>1. This dataset can be merged \"joined\" with **weRateDogsArchive** because they both refer to the same tweet.\n",
    "\n",
    ">3. tweet_data_json.txt **apiTweetData**\n",
    ">>1. Same goes here it should be merged with **weRateDogsArchive**.\n",
    "\n",
    "#### Note the format I will be using to solve the problem will be like the following:\n",
    "* ##### Define : here I will mention the issue from the issues above with it's type and what section.\n",
    "* ##### Code : here I will translate what I had mentioned in the issue into python code.\n",
    "* ##### Test : here I will test the results of my code to check that the issue were solved.\n",
    "\n",
    "---\n",
    "\n",
    "#### First, I will make copy of the acquired data sets. I don't want to keep restarting the notebook if I messed up the only source of data I have."
   ]
  },
  {
   "cell_type": "code",
   "execution_count": 65,
   "metadata": {},
   "outputs": [],
   "source": [
    "weRateDogsArchive_clean = weRateDogsArchive.copy()\n",
    "imagesPredictions_clean = imagesPredictions.copy()\n",
    "apiTweetData_clean = apiTweetData.copy()"
   ]
  },
  {
   "cell_type": "markdown",
   "metadata": {},
   "source": [
    "### Define\n",
    "#### Tidiness Issues 1. A."
   ]
  },
  {
   "cell_type": "code",
   "execution_count": 66,
   "metadata": {},
   "outputs": [
    {
     "name": "stdout",
     "output_type": "stream",
     "text": [
      "<class 'pandas.core.frame.DataFrame'>\n",
      "RangeIndex: 2356 entries, 0 to 2355\n",
      "Data columns (total 17 columns):\n",
      "tweet_id                      2356 non-null int64\n",
      "in_reply_to_status_id         78 non-null float64\n",
      "in_reply_to_user_id           78 non-null float64\n",
      "timestamp                     2356 non-null object\n",
      "source                        2356 non-null object\n",
      "text                          2356 non-null object\n",
      "retweeted_status_id           181 non-null float64\n",
      "retweeted_status_user_id      181 non-null float64\n",
      "retweeted_status_timestamp    181 non-null object\n",
      "expanded_urls                 2297 non-null object\n",
      "rating_numerator              2356 non-null int64\n",
      "rating_denominator            2356 non-null int64\n",
      "name                          2356 non-null object\n",
      "doggo                         2356 non-null object\n",
      "floofer                       2356 non-null object\n",
      "pupper                        2356 non-null object\n",
      "puppo                         2356 non-null object\n",
      "dtypes: float64(4), int64(3), object(10)\n",
      "memory usage: 313.0+ KB\n"
     ]
    }
   ],
   "source": [
    "#Before editing the enhanced archive\n",
    "weRateDogsArchive_clean.info()"
   ]
  },
  {
   "cell_type": "markdown",
   "metadata": {},
   "source": [
    "#### Code and Test"
   ]
  },
  {
   "cell_type": "code",
   "execution_count": 67,
   "metadata": {},
   "outputs": [
    {
     "data": {
      "text/html": [
       "<div>\n",
       "<style scoped>\n",
       "    .dataframe tbody tr th:only-of-type {\n",
       "        vertical-align: middle;\n",
       "    }\n",
       "\n",
       "    .dataframe tbody tr th {\n",
       "        vertical-align: top;\n",
       "    }\n",
       "\n",
       "    .dataframe thead th {\n",
       "        text-align: right;\n",
       "    }\n",
       "</style>\n",
       "<table border=\"1\" class=\"dataframe\">\n",
       "  <thead>\n",
       "    <tr style=\"text-align: right;\">\n",
       "      <th></th>\n",
       "      <th>dog_stage</th>\n",
       "      <th>doggo</th>\n",
       "      <th>floofer</th>\n",
       "      <th>pupper</th>\n",
       "      <th>puppo</th>\n",
       "    </tr>\n",
       "  </thead>\n",
       "  <tbody>\n",
       "    <tr>\n",
       "      <th>2274</th>\n",
       "      <td>NaN</td>\n",
       "      <td>None</td>\n",
       "      <td>None</td>\n",
       "      <td>None</td>\n",
       "      <td>None</td>\n",
       "    </tr>\n",
       "    <tr>\n",
       "      <th>1127</th>\n",
       "      <td>NaN</td>\n",
       "      <td>None</td>\n",
       "      <td>None</td>\n",
       "      <td>None</td>\n",
       "      <td>None</td>\n",
       "    </tr>\n",
       "    <tr>\n",
       "      <th>1295</th>\n",
       "      <td>NaN</td>\n",
       "      <td>None</td>\n",
       "      <td>None</td>\n",
       "      <td>None</td>\n",
       "      <td>None</td>\n",
       "    </tr>\n",
       "    <tr>\n",
       "      <th>1537</th>\n",
       "      <td>NaN</td>\n",
       "      <td>None</td>\n",
       "      <td>None</td>\n",
       "      <td>None</td>\n",
       "      <td>None</td>\n",
       "    </tr>\n",
       "    <tr>\n",
       "      <th>94</th>\n",
       "      <td>puppo</td>\n",
       "      <td>None</td>\n",
       "      <td>None</td>\n",
       "      <td>None</td>\n",
       "      <td>puppo</td>\n",
       "    </tr>\n",
       "    <tr>\n",
       "      <th>135</th>\n",
       "      <td>pupper</td>\n",
       "      <td>None</td>\n",
       "      <td>None</td>\n",
       "      <td>pupper</td>\n",
       "      <td>None</td>\n",
       "    </tr>\n",
       "    <tr>\n",
       "      <th>502</th>\n",
       "      <td>NaN</td>\n",
       "      <td>None</td>\n",
       "      <td>None</td>\n",
       "      <td>None</td>\n",
       "      <td>None</td>\n",
       "    </tr>\n",
       "    <tr>\n",
       "      <th>834</th>\n",
       "      <td>NaN</td>\n",
       "      <td>None</td>\n",
       "      <td>None</td>\n",
       "      <td>None</td>\n",
       "      <td>None</td>\n",
       "    </tr>\n",
       "    <tr>\n",
       "      <th>1003</th>\n",
       "      <td>NaN</td>\n",
       "      <td>None</td>\n",
       "      <td>None</td>\n",
       "      <td>None</td>\n",
       "      <td>None</td>\n",
       "    </tr>\n",
       "    <tr>\n",
       "      <th>1304</th>\n",
       "      <td>pupper</td>\n",
       "      <td>None</td>\n",
       "      <td>None</td>\n",
       "      <td>pupper</td>\n",
       "      <td>None</td>\n",
       "    </tr>\n",
       "    <tr>\n",
       "      <th>1573</th>\n",
       "      <td>NaN</td>\n",
       "      <td>None</td>\n",
       "      <td>None</td>\n",
       "      <td>None</td>\n",
       "      <td>None</td>\n",
       "    </tr>\n",
       "    <tr>\n",
       "      <th>494</th>\n",
       "      <td>NaN</td>\n",
       "      <td>None</td>\n",
       "      <td>None</td>\n",
       "      <td>None</td>\n",
       "      <td>None</td>\n",
       "    </tr>\n",
       "    <tr>\n",
       "      <th>915</th>\n",
       "      <td>NaN</td>\n",
       "      <td>None</td>\n",
       "      <td>None</td>\n",
       "      <td>None</td>\n",
       "      <td>None</td>\n",
       "    </tr>\n",
       "    <tr>\n",
       "      <th>2332</th>\n",
       "      <td>NaN</td>\n",
       "      <td>None</td>\n",
       "      <td>None</td>\n",
       "      <td>None</td>\n",
       "      <td>None</td>\n",
       "    </tr>\n",
       "    <tr>\n",
       "      <th>1198</th>\n",
       "      <td>NaN</td>\n",
       "      <td>None</td>\n",
       "      <td>None</td>\n",
       "      <td>None</td>\n",
       "      <td>None</td>\n",
       "    </tr>\n",
       "  </tbody>\n",
       "</table>\n",
       "</div>"
      ],
      "text/plain": [
       "     dog_stage doggo floofer  pupper  puppo\n",
       "2274       NaN  None    None    None   None\n",
       "1127       NaN  None    None    None   None\n",
       "1295       NaN  None    None    None   None\n",
       "1537       NaN  None    None    None   None\n",
       "94       puppo  None    None    None  puppo\n",
       "135     pupper  None    None  pupper   None\n",
       "502        NaN  None    None    None   None\n",
       "834        NaN  None    None    None   None\n",
       "1003       NaN  None    None    None   None\n",
       "1304    pupper  None    None  pupper   None\n",
       "1573       NaN  None    None    None   None\n",
       "494        NaN  None    None    None   None\n",
       "915        NaN  None    None    None   None\n",
       "2332       NaN  None    None    None   None\n",
       "1198       NaN  None    None    None   None"
      ]
     },
     "execution_count": 67,
     "metadata": {},
     "output_type": "execute_result"
    }
   ],
   "source": [
    "#Extract dog stages from 'text' column into new 'dog_stage' column \n",
    "weRateDogsArchive_clean['dog_stage'] = weRateDogsArchive_clean['text'].str.extract('(doggo|floofer|pupper|puppo)')\n",
    "#Check that a random sample of dog_stage are similar to that which was previously extracted\n",
    "weRateDogsArchive_clean[['dog_stage','doggo', 'floofer', 'pupper', 'puppo']].sample(15)"
   ]
  },
  {
   "cell_type": "code",
   "execution_count": 68,
   "metadata": {},
   "outputs": [],
   "source": [
    "# Drop doggo, floofer, pupper, and puppo unnecessary columns\n",
    "weRateDogsArchive_clean = weRateDogsArchive_clean.drop(['doggo', 'floofer', 'pupper', 'puppo'], axis=1)"
   ]
  },
  {
   "cell_type": "code",
   "execution_count": 69,
   "metadata": {},
   "outputs": [
    {
     "name": "stdout",
     "output_type": "stream",
     "text": [
      "<class 'pandas.core.frame.DataFrame'>\n",
      "RangeIndex: 2356 entries, 0 to 2355\n",
      "Data columns (total 14 columns):\n",
      "tweet_id                      2356 non-null int64\n",
      "in_reply_to_status_id         78 non-null float64\n",
      "in_reply_to_user_id           78 non-null float64\n",
      "timestamp                     2356 non-null object\n",
      "source                        2356 non-null object\n",
      "text                          2356 non-null object\n",
      "retweeted_status_id           181 non-null float64\n",
      "retweeted_status_user_id      181 non-null float64\n",
      "retweeted_status_timestamp    181 non-null object\n",
      "expanded_urls                 2297 non-null object\n",
      "rating_numerator              2356 non-null int64\n",
      "rating_denominator            2356 non-null int64\n",
      "name                          2356 non-null object\n",
      "dog_stage                     399 non-null object\n",
      "dtypes: float64(4), int64(3), object(7)\n",
      "memory usage: 257.8+ KB\n"
     ]
    }
   ],
   "source": [
    "#Check for presence of 'dog_stage\" and absence of 'doggo', 'floofer', 'pupper', and 'puppo'\n",
    "weRateDogsArchive_clean.info()"
   ]
  },
  {
   "cell_type": "markdown",
   "metadata": {},
   "source": [
    "### Define\n",
    "#### Tidiness Issues 2. A. and 3. A.\n",
    "\n",
    "#### Code and Test"
   ]
  },
  {
   "cell_type": "code",
   "execution_count": 70,
   "metadata": {},
   "outputs": [
    {
     "name": "stdout",
     "output_type": "stream",
     "text": [
      "<class 'pandas.core.frame.DataFrame'>\n",
      "Int64Index: 2065 entries, 0 to 2064\n",
      "Data columns (total 27 columns):\n",
      "tweet_id                      2065 non-null int64\n",
      "in_reply_to_status_id         23 non-null float64\n",
      "in_reply_to_user_id           23 non-null float64\n",
      "timestamp                     2065 non-null object\n",
      "source                        2065 non-null object\n",
      "text                          2065 non-null object\n",
      "retweeted_status_id           75 non-null float64\n",
      "retweeted_status_user_id      75 non-null float64\n",
      "retweeted_status_timestamp    75 non-null object\n",
      "expanded_urls                 2065 non-null object\n",
      "rating_numerator              2065 non-null int64\n",
      "rating_denominator            2065 non-null int64\n",
      "name                          2065 non-null object\n",
      "dog_stage                     338 non-null object\n",
      "favorite_count                2065 non-null int64\n",
      "retweet_count                 2065 non-null int64\n",
      "jpg_url                       2065 non-null object\n",
      "img_num                       2065 non-null int64\n",
      "p1                            2065 non-null object\n",
      "p1_conf                       2065 non-null float64\n",
      "p1_dog                        2065 non-null bool\n",
      "p2                            2065 non-null object\n",
      "p2_conf                       2065 non-null float64\n",
      "p2_dog                        2065 non-null bool\n",
      "p3                            2065 non-null object\n",
      "p3_conf                       2065 non-null float64\n",
      "p3_dog                        2065 non-null bool\n",
      "dtypes: bool(3), float64(7), int64(6), object(11)\n",
      "memory usage: 409.4+ KB\n"
     ]
    }
   ],
   "source": [
    "#Merge the weRateDogsArchive_clean, apiTweetData, and imagesPredictions datasets with 'tweet_ids'\n",
    "dfs = [weRateDogsArchive_clean, apiTweetData_clean, imagesPredictions_clean]\n",
    "weRateDogsArchive_clean = reduce(lambda left,right: pd.merge(left,right,on='tweet_id'), dfs)\n",
    "#Checking everything successfully merged\n",
    "weRateDogsArchive_clean.info()"
   ]
  },
  {
   "cell_type": "markdown",
   "metadata": {},
   "source": [
    "#### Quality Issues\n",
    "Since all the data were merged we will work on weRateDogsArchive_clean only. \n",
    "\n",
    "---\n",
    "### Define\n",
    "##### Removing re-tweets 1. A.\n",
    "\n",
    "#### Code"
   ]
  },
  {
   "cell_type": "code",
   "execution_count": 71,
   "metadata": {},
   "outputs": [
    {
     "name": "stdout",
     "output_type": "stream",
     "text": [
      "<class 'pandas.core.frame.DataFrame'>\n",
      "Int64Index: 1990 entries, 0 to 2064\n",
      "Data columns (total 27 columns):\n",
      "tweet_id                      1990 non-null int64\n",
      "in_reply_to_status_id         23 non-null float64\n",
      "in_reply_to_user_id           23 non-null float64\n",
      "timestamp                     1990 non-null object\n",
      "source                        1990 non-null object\n",
      "text                          1990 non-null object\n",
      "retweeted_status_id           0 non-null float64\n",
      "retweeted_status_user_id      0 non-null float64\n",
      "retweeted_status_timestamp    0 non-null object\n",
      "expanded_urls                 1990 non-null object\n",
      "rating_numerator              1990 non-null int64\n",
      "rating_denominator            1990 non-null int64\n",
      "name                          1990 non-null object\n",
      "dog_stage                     326 non-null object\n",
      "favorite_count                1990 non-null int64\n",
      "retweet_count                 1990 non-null int64\n",
      "jpg_url                       1990 non-null object\n",
      "img_num                       1990 non-null int64\n",
      "p1                            1990 non-null object\n",
      "p1_conf                       1990 non-null float64\n",
      "p1_dog                        1990 non-null bool\n",
      "p2                            1990 non-null object\n",
      "p2_conf                       1990 non-null float64\n",
      "p2_dog                        1990 non-null bool\n",
      "p3                            1990 non-null object\n",
      "p3_conf                       1990 non-null float64\n",
      "p3_dog                        1990 non-null bool\n",
      "dtypes: bool(3), float64(7), int64(6), object(11)\n",
      "memory usage: 394.5+ KB\n",
      "None\n"
     ]
    }
   ],
   "source": [
    "# Keep columns where 'retweeted_status_id' is NaN\n",
    "weRateDogsArchive_clean = weRateDogsArchive_clean[np.isnan(weRateDogsArchive_clean.retweeted_status_id)]\n",
    "\n",
    "# Check info to determine all there are no non-null entries for\n",
    "# 'retweeted_status_id', 'retweeted_status_user_id' and \n",
    "# 'retweeted_status_timestamp'\n",
    "print(weRateDogsArchive_clean.info())\n",
    "\n",
    "# Remove 'retweeted_status_id', 'retweeted_status_user_id' and \n",
    "# 'retweeted_status_timestamp' columns\n",
    "weRateDogsArchive_clean = weRateDogsArchive_clean.drop(['retweeted_status_id', \n",
    "                        'retweeted_status_user_id', \n",
    "                        'retweeted_status_timestamp'], \n",
    "                       axis=1)"
   ]
  },
  {
   "cell_type": "markdown",
   "metadata": {},
   "source": [
    "#### Test"
   ]
  },
  {
   "cell_type": "code",
   "execution_count": 73,
   "metadata": {},
   "outputs": [
    {
     "name": "stdout",
     "output_type": "stream",
     "text": [
      "<class 'pandas.core.frame.DataFrame'>\n",
      "Int64Index: 1990 entries, 0 to 2064\n",
      "Data columns (total 24 columns):\n",
      "tweet_id                 1990 non-null int64\n",
      "in_reply_to_status_id    23 non-null float64\n",
      "in_reply_to_user_id      23 non-null float64\n",
      "timestamp                1990 non-null object\n",
      "source                   1990 non-null object\n",
      "text                     1990 non-null object\n",
      "expanded_urls            1990 non-null object\n",
      "rating_numerator         1990 non-null int64\n",
      "rating_denominator       1990 non-null int64\n",
      "name                     1990 non-null object\n",
      "dog_stage                326 non-null object\n",
      "favorite_count           1990 non-null int64\n",
      "retweet_count            1990 non-null int64\n",
      "jpg_url                  1990 non-null object\n",
      "img_num                  1990 non-null int64\n",
      "p1                       1990 non-null object\n",
      "p1_conf                  1990 non-null float64\n",
      "p1_dog                   1990 non-null bool\n",
      "p2                       1990 non-null object\n",
      "p2_conf                  1990 non-null float64\n",
      "p2_dog                   1990 non-null bool\n",
      "p3                       1990 non-null object\n",
      "p3_conf                  1990 non-null float64\n",
      "p3_dog                   1990 non-null bool\n",
      "dtypes: bool(3), float64(5), int64(6), object(10)\n",
      "memory usage: 347.9+ KB\n"
     ]
    }
   ],
   "source": [
    "weRateDogsArchive_clean.info()"
   ]
  },
  {
   "cell_type": "markdown",
   "metadata": {},
   "source": [
    "### Define\n",
    "####  Remove the columns that I will not be using. 1. B."
   ]
  },
  {
   "cell_type": "code",
   "execution_count": 74,
   "metadata": {},
   "outputs": [
    {
     "data": {
      "text/plain": [
       "Index(['tweet_id', 'in_reply_to_status_id', 'in_reply_to_user_id', 'timestamp',\n",
       "       'source', 'text', 'expanded_urls', 'rating_numerator',\n",
       "       'rating_denominator', 'name', 'dog_stage', 'favorite_count',\n",
       "       'retweet_count', 'jpg_url', 'img_num', 'p1', 'p1_conf', 'p1_dog', 'p2',\n",
       "       'p2_conf', 'p2_dog', 'p3', 'p3_conf', 'p3_dog'],\n",
       "      dtype='object')"
      ]
     },
     "execution_count": 74,
     "metadata": {},
     "output_type": "execute_result"
    }
   ],
   "source": [
    "#Show all column names\n",
    "weRateDogsArchive_clean.columns"
   ]
  },
  {
   "cell_type": "markdown",
   "metadata": {},
   "source": [
    "#### Code and Test"
   ]
  },
  {
   "cell_type": "code",
   "execution_count": 76,
   "metadata": {},
   "outputs": [
    {
     "data": {
      "text/plain": [
       "Index(['tweet_id', 'timestamp', 'text', 'expanded_urls', 'rating_numerator',\n",
       "       'rating_denominator', 'name', 'dog_stage', 'favorite_count',\n",
       "       'retweet_count', 'jpg_url', 'p1', 'p1_conf', 'p1_dog', 'p2', 'p2_conf',\n",
       "       'p2_dog', 'p3', 'p3_conf', 'p3_dog'],\n",
       "      dtype='object')"
      ]
     },
     "execution_count": 76,
     "metadata": {},
     "output_type": "execute_result"
    }
   ],
   "source": [
    "#Drop columns to make dataframe easier to read through\n",
    "weRateDogsArchive_clean.drop(['in_reply_to_status_id', \n",
    "              'in_reply_to_user_id',\n",
    "              'source',\n",
    "              'img_num'], axis=1, inplace=True)\n",
    "\n",
    "#Allow all columns and text to be shown \n",
    "pd.set_option('display.max_columns', None)\n",
    "\n",
    "#show columns after deleteing the undesired ones\n",
    "weRateDogsArchive_clean.columns"
   ]
  },
  {
   "cell_type": "markdown",
   "metadata": {},
   "source": [
    "### Define\n",
    "#### Removing rating rules that violate WeRateDogs standards . 1. C. and 1. D.\n",
    "Find all instances of ratings that contained decimals and replace the numerator values with the correct values from text column."
   ]
  },
  {
   "cell_type": "code",
   "execution_count": 77,
   "metadata": {},
   "outputs": [
    {
     "data": {
      "text/plain": [
       "['This is Bella. She hopes her smile made you smile. If not, she is also offering you her favorite monkey. 13.5/10 https://t.co/qjrljjt948',\n",
       " \"This is Logan, the Chow who lived. He solemnly swears he's up to lots of good. H*ckin magical af 9.75/10 https://t.co/yBO5wuqaPS\",\n",
       " \"This is Sophie. She's a Jubilant Bush Pupper. Super h*ckin rare. Appears at random just to smile at the locals. 11.27/10 would smile back https://t.co/QFaUiIHxHq\",\n",
       " 'Here we have uncovered an entire battalion of holiday puppers. Average of 11.26/10 https://t.co/eNm2S6p9BD']"
      ]
     },
     "execution_count": 77,
     "metadata": {},
     "output_type": "execute_result"
    }
   ],
   "source": [
    "#Obtain all text, indices, and ratings for tweets that contain a decimal in the numerator of rating\n",
    "ratings_with_decimals_text = []\n",
    "ratings_with_decimals_index = []\n",
    "ratings_with_decimals = []\n",
    "\n",
    "for i, text in weRateDogsArchive_clean['text'].iteritems():\n",
    "    if bool(re.search('\\d+\\.\\d+\\/\\d+', text)):\n",
    "        ratings_with_decimals_text.append(text)\n",
    "        ratings_with_decimals_index.append(i)\n",
    "        ratings_with_decimals.append(re.search('\\d+\\.\\d+', text).group())\n",
    "\n",
    "# Print the text to confirm presence of ratings with decimals        \n",
    "ratings_with_decimals_text"
   ]
  },
  {
   "cell_type": "code",
   "execution_count": 78,
   "metadata": {},
   "outputs": [
    {
     "data": {
      "text/plain": [
       "[40, 551, 607, 1444]"
      ]
     },
     "execution_count": 78,
     "metadata": {},
     "output_type": "execute_result"
    }
   ],
   "source": [
    "# Print the index of text with decimal ratings to know which row that will be replaced\n",
    "ratings_with_decimals_index"
   ]
  },
  {
   "cell_type": "markdown",
   "metadata": {},
   "source": [
    "#### Code and Test"
   ]
  },
  {
   "cell_type": "code",
   "execution_count": 79,
   "metadata": {},
   "outputs": [],
   "source": [
    "# Change contents of 'rating_numerator' based on info found.\n",
    "weRateDogsArchive_clean.loc[ratings_with_decimals_index[0],'rating_numerator'] = float(ratings_with_decimals[0])\n",
    "weRateDogsArchive_clean.loc[ratings_with_decimals_index[1],'rating_numerator'] = float(ratings_with_decimals[1])\n",
    "weRateDogsArchive_clean.loc[ratings_with_decimals_index[2],'rating_numerator'] = float(ratings_with_decimals[2])\n",
    "weRateDogsArchive_clean.loc[ratings_with_decimals_index[3],'rating_numerator'] = float(ratings_with_decimals[3])"
   ]
  },
  {
   "cell_type": "code",
   "execution_count": 81,
   "metadata": {},
   "outputs": [
    {
     "data": {
      "text/plain": [
       "12.00      449\n",
       "10.00      418\n",
       "11.00      396\n",
       "13.00      259\n",
       "9.00       151\n",
       "8.00        95\n",
       "7.00        52\n",
       "14.00       35\n",
       "5.00        32\n",
       "6.00        32\n",
       "3.00        19\n",
       "4.00        16\n",
       "2.00         9\n",
       "1.00         5\n",
       "0.00         2\n",
       "24.00        1\n",
       "9.75         1\n",
       "84.00        1\n",
       "13.50        1\n",
       "143.00       1\n",
       "420.00       1\n",
       "50.00        1\n",
       "80.00        1\n",
       "45.00        1\n",
       "60.00        1\n",
       "44.00        1\n",
       "144.00       1\n",
       "88.00        1\n",
       "11.26        1\n",
       "165.00       1\n",
       "11.27        1\n",
       "1776.00      1\n",
       "99.00        1\n",
       "121.00       1\n",
       "204.00       1\n",
       "Name: rating_numerator, dtype: int64"
      ]
     },
     "execution_count": 81,
     "metadata": {},
     "output_type": "execute_result"
    }
   ],
   "source": [
    "weRateDogsArchive_clean['rating_numerator'].value_counts()"
   ]
  },
  {
   "cell_type": "code",
   "execution_count": 92,
   "metadata": {},
   "outputs": [
    {
     "data": {
      "text/plain": [
       "12.00    449\n",
       "10.00    418\n",
       "11.00    396\n",
       "13.00    259\n",
       "14.00     35\n",
       "11.27      1\n",
       "11.26      1\n",
       "13.50      1\n",
       "Name: rating_numerator, dtype: int64"
      ]
     },
     "execution_count": 92,
     "metadata": {},
     "output_type": "execute_result"
    }
   ],
   "source": [
    "#Now remove the numerator lower than 10 \"Noisy data\"\n",
    "weRateDogsArchive_clean = weRateDogsArchive_clean[(weRateDogsArchive_clean.rating_numerator >= 10) & (weRateDogsArchive_clean.rating_numerator <= 20)]\n",
    "weRateDogsArchive_clean['rating_numerator'].value_counts()"
   ]
  },
  {
   "cell_type": "code",
   "execution_count": 93,
   "metadata": {},
   "outputs": [
    {
     "data": {
      "text/plain": [
       "10    1560\n",
       "Name: rating_denominator, dtype: int64"
      ]
     },
     "execution_count": 93,
     "metadata": {},
     "output_type": "execute_result"
    }
   ],
   "source": [
    "#Do the same for denominator for outlires\n",
    "weRateDogsArchive_clean['rating_denominator'].value_counts()"
   ]
  },
  {
   "cell_type": "markdown",
   "metadata": {},
   "source": [
    "Now the rating_numerator and rating_denominator are in good shape."
   ]
  },
  {
   "cell_type": "markdown",
   "metadata": {},
   "source": [
    "### Define\n",
    "#### Fixing the name issues. 1. G. 1. E."
   ]
  },
  {
   "cell_type": "code",
   "execution_count": 95,
   "metadata": {},
   "outputs": [
    {
     "name": "stdout",
     "output_type": "stream",
     "text": [
      "['such', 'a', 'quite', 'one', 'incredibly', 'very', 'my', 'not', 'his', 'just', 'getting', 'all', 'infuriating', 'an', 'actually', 'by', 'officially', 'the', 'light', 'space']\n"
     ]
    }
   ],
   "source": [
    "#Find all names that start with a lowercase letter because names are stored with a Uppercase first letter\n",
    "lowercase_names = []\n",
    "for row in weRateDogsArchive_clean['name']:\n",
    "    if row[0].islower() and row not in lowercase_names:\n",
    "        lowercase_names.append(row)\n",
    "print(lowercase_names)"
   ]
  },
  {
   "cell_type": "markdown",
   "metadata": {},
   "source": [
    "#### Code and Test"
   ]
  },
  {
   "cell_type": "code",
   "execution_count": 100,
   "metadata": {},
   "outputs": [
    {
     "data": {
      "text/plain": [
       "Charlie     10\n",
       "Lucy        10\n",
       "Cooper       9\n",
       "Oliver       9\n",
       "Tucker       8\n",
       "Sadie        7\n",
       "Winston      7\n",
       "Penny        7\n",
       "Daisy        6\n",
       "Bo           6\n",
       "Koda         6\n",
       "Milo         5\n",
       "Louis        5\n",
       "Jax          5\n",
       "Stanley      5\n",
       "Leo          5\n",
       "Bella        5\n",
       "Toby         5\n",
       "Lola         5\n",
       "Bear         4\n",
       "Sophie       4\n",
       "Scout        4\n",
       "Derek        4\n",
       "Oscar        4\n",
       "Rusty        4\n",
       "Jack         4\n",
       "Finn         4\n",
       "Scooter      4\n",
       "Duke         4\n",
       "Chester      4\n",
       "            ..\n",
       "Ulysses      1\n",
       "Jimison      1\n",
       "Willy        1\n",
       "Ralphé       1\n",
       "Skittles     1\n",
       "Dido         1\n",
       "Tupawc       1\n",
       "Kuyu         1\n",
       "Bernie       1\n",
       "Mollie       1\n",
       "Zeus         1\n",
       "Lipton       1\n",
       "Kramer       1\n",
       "Molly        1\n",
       "Ken          1\n",
       "Rumble       1\n",
       "Buddah       1\n",
       "Raphael      1\n",
       "Cannon       1\n",
       "Klein        1\n",
       "Thor         1\n",
       "Brady        1\n",
       "Crumpet      1\n",
       "Major        1\n",
       "Chaz         1\n",
       "General      1\n",
       "Eleanor      1\n",
       "Theo         1\n",
       "Tedders      1\n",
       "Beckham      1\n",
       "Name: name, Length: 769, dtype: int64"
      ]
     },
     "execution_count": 100,
     "metadata": {},
     "output_type": "execute_result"
    }
   ],
   "source": [
    "# Replace all names that start with a lowercase letter with a NaN\n",
    "weRateDogsArchive_clean['name'].replace(lowercase_names, \n",
    "                        np.nan,\n",
    "                       inplace = True)\n",
    "\n",
    "# Replace all 'None's with a NaN\n",
    "weRateDogsArchive_clean['name'].replace('None', \n",
    "                        np.nan,\n",
    "                       inplace = True)\n",
    "weRateDogsArchive_clean['name'].value_counts()"
   ]
  },
  {
   "cell_type": "markdown",
   "metadata": {},
   "source": [
    "### Define\n",
    "#### Change timestamp from object into time datatype. 1. F."
   ]
  },
  {
   "cell_type": "code",
   "execution_count": 103,
   "metadata": {},
   "outputs": [
    {
     "data": {
      "text/plain": [
       "2016-02-26 04:48:02 +0000    1\n",
       "2016-09-06 19:52:39 +0000    1\n",
       "2016-12-05 17:31:15 +0000    1\n",
       "2016-08-24 15:43:39 +0000    1\n",
       "2017-03-06 01:26:54 +0000    1\n",
       "2017-01-07 20:18:46 +0000    1\n",
       "2017-06-30 23:47:07 +0000    1\n",
       "2015-12-07 01:47:30 +0000    1\n",
       "2016-11-14 01:18:12 +0000    1\n",
       "2016-05-20 00:51:30 +0000    1\n",
       "2017-06-06 00:01:46 +0000    1\n",
       "2017-01-11 17:01:16 +0000    1\n",
       "2016-03-29 00:12:05 +0000    1\n",
       "2017-07-09 21:29:42 +0000    1\n",
       "2016-04-01 15:46:52 +0000    1\n",
       "2016-05-12 01:40:42 +0000    1\n",
       "2017-07-24 00:19:32 +0000    1\n",
       "2017-07-20 16:49:33 +0000    1\n",
       "2016-06-27 16:08:30 +0000    1\n",
       "2017-05-04 23:34:55 +0000    1\n",
       "2015-11-28 02:25:32 +0000    1\n",
       "2016-06-13 18:27:32 +0000    1\n",
       "2016-03-04 03:13:11 +0000    1\n",
       "2016-01-07 01:49:14 +0000    1\n",
       "2017-02-22 01:14:30 +0000    1\n",
       "2015-12-12 03:29:35 +0000    1\n",
       "2016-02-11 03:02:54 +0000    1\n",
       "2016-02-04 02:40:08 +0000    1\n",
       "2017-03-16 00:00:07 +0000    1\n",
       "2016-10-09 23:44:41 +0000    1\n",
       "                            ..\n",
       "2015-11-19 15:49:57 +0000    1\n",
       "2017-02-20 00:53:27 +0000    1\n",
       "2016-10-07 16:33:21 +0000    1\n",
       "2016-01-21 04:03:58 +0000    1\n",
       "2015-12-11 15:19:21 +0000    1\n",
       "2016-08-02 01:44:48 +0000    1\n",
       "2016-02-24 20:56:55 +0000    1\n",
       "2015-12-05 02:37:35 +0000    1\n",
       "2015-12-29 04:31:49 +0000    1\n",
       "2016-12-25 22:00:04 +0000    1\n",
       "2016-10-20 16:15:26 +0000    1\n",
       "2017-05-05 16:00:04 +0000    1\n",
       "2017-02-14 17:17:22 +0000    1\n",
       "2017-07-11 20:47:12 +0000    1\n",
       "2015-12-20 01:38:42 +0000    1\n",
       "2016-11-01 00:00:38 +0000    1\n",
       "2016-12-06 19:29:28 +0000    1\n",
       "2016-04-14 00:55:25 +0000    1\n",
       "2016-01-16 15:40:14 +0000    1\n",
       "2017-05-03 19:26:06 +0000    1\n",
       "2015-11-27 00:43:49 +0000    1\n",
       "2016-09-10 23:54:11 +0000    1\n",
       "2015-11-28 03:31:48 +0000    1\n",
       "2016-01-03 00:47:59 +0000    1\n",
       "2015-11-19 03:29:07 +0000    1\n",
       "2016-07-31 16:50:42 +0000    1\n",
       "2016-07-29 00:57:05 +0000    1\n",
       "2017-07-04 16:01:23 +0000    1\n",
       "2016-01-04 21:23:02 +0000    1\n",
       "2017-05-27 19:39:34 +0000    1\n",
       "Name: timestamp, Length: 1560, dtype: int64"
      ]
     },
     "execution_count": 103,
     "metadata": {},
     "output_type": "execute_result"
    }
   ],
   "source": [
    "weRateDogsArchive_clean['timestamp'].value_counts()"
   ]
  },
  {
   "cell_type": "markdown",
   "metadata": {},
   "source": [
    "As we can notice timezone information is not needed because it's only stored with +0000 which does not give any information about the time zone."
   ]
  },
  {
   "cell_type": "markdown",
   "metadata": {},
   "source": [
    "#### Code and Test"
   ]
  },
  {
   "cell_type": "code",
   "execution_count": 105,
   "metadata": {},
   "outputs": [],
   "source": [
    "#Remove the time zone information from 'timestamp' column\n",
    "weRateDogsArchive_clean['timestamp'] = weRateDogsArchive_clean['timestamp'].str.slice(start=0, stop=-6)"
   ]
  },
  {
   "cell_type": "code",
   "execution_count": 109,
   "metadata": {},
   "outputs": [
    {
     "data": {
      "text/plain": [
       "2016-02-15 01:05:02    1\n",
       "2017-03-11 22:51:24    1\n",
       "2015-12-09 02:34:18    1\n",
       "2017-02-06 17:02:17    1\n",
       "2015-12-21 22:15:18    1\n",
       "2016-12-12 00:29:28    1\n",
       "2017-08-01 16:23:56    1\n",
       "2016-04-04 17:53:31    1\n",
       "2016-04-23 01:41:59    1\n",
       "2015-12-27 22:37:04    1\n",
       "2017-05-19 00:12:11    1\n",
       "2016-05-27 01:47:23    1\n",
       "2017-01-25 16:45:05    1\n",
       "2017-05-15 19:14:50    1\n",
       "2016-03-20 01:28:47    1\n",
       "2016-10-31 21:00:23    1\n",
       "2015-11-26 17:11:11    1\n",
       "2017-07-03 00:11:11    1\n",
       "2016-10-11 16:00:24    1\n",
       "2015-12-07 17:38:09    1\n",
       "2015-12-22 04:35:49    1\n",
       "2017-07-11 00:00:02    1\n",
       "2016-10-23 00:27:05    1\n",
       "2016-03-15 21:24:41    1\n",
       "2016-02-04 04:03:57    1\n",
       "2017-02-18 17:00:10    1\n",
       "2016-04-08 20:46:50    1\n",
       "2017-04-23 23:01:59    1\n",
       "2015-12-12 03:47:46    1\n",
       "2016-06-13 21:16:49    1\n",
       "                      ..\n",
       "2015-12-02 03:40:57    1\n",
       "2016-07-18 18:43:07    1\n",
       "2015-11-16 01:22:45    1\n",
       "2015-12-12 04:23:49    1\n",
       "2017-01-06 17:33:29    1\n",
       "2016-02-13 22:29:29    1\n",
       "2016-02-10 02:14:42    1\n",
       "2016-09-03 16:52:02    1\n",
       "2016-03-13 23:24:56    1\n",
       "2016-09-11 21:34:30    1\n",
       "2016-04-08 00:30:51    1\n",
       "2015-11-23 04:59:42    1\n",
       "2016-01-13 03:12:26    1\n",
       "2016-06-01 23:52:28    1\n",
       "2016-01-02 01:33:43    1\n",
       "2016-11-22 17:28:25    1\n",
       "2017-07-25 16:11:53    1\n",
       "2016-09-15 17:48:25    1\n",
       "2016-07-14 01:19:12    1\n",
       "2015-12-11 00:44:07    1\n",
       "2015-11-22 20:37:34    1\n",
       "2016-07-17 01:05:25    1\n",
       "2016-03-12 19:35:15    1\n",
       "2016-07-05 02:00:06    1\n",
       "2017-03-26 01:38:00    1\n",
       "2015-11-18 03:54:28    1\n",
       "2015-11-28 01:54:54    1\n",
       "2016-12-14 17:16:53    1\n",
       "2016-05-05 02:21:37    1\n",
       "2017-01-10 01:15:10    1\n",
       "Name: timestamp, Length: 1560, dtype: int64"
      ]
     },
     "execution_count": 109,
     "metadata": {},
     "output_type": "execute_result"
    }
   ],
   "source": [
    "#Change the 'timestamp' column to a datetime object\n",
    "weRateDogsArchive_clean['timestamp'] = pd.to_datetime(weRateDogsArchive_clean['timestamp'], format = \"%Y-%m-%d %H:%M:%S\")\n",
    "weRateDogsArchive_clean['timestamp'].value_counts()"
   ]
  },
  {
   "cell_type": "markdown",
   "metadata": {},
   "source": [
    "#### Create rating column and calculate the ratings for better analyze 1. H."
   ]
  },
  {
   "cell_type": "code",
   "execution_count": 112,
   "metadata": {},
   "outputs": [
    {
     "data": {
      "text/html": [
       "<div>\n",
       "<style scoped>\n",
       "    .dataframe tbody tr th:only-of-type {\n",
       "        vertical-align: middle;\n",
       "    }\n",
       "\n",
       "    .dataframe tbody tr th {\n",
       "        vertical-align: top;\n",
       "    }\n",
       "\n",
       "    .dataframe thead th {\n",
       "        text-align: right;\n",
       "    }\n",
       "</style>\n",
       "<table border=\"1\" class=\"dataframe\">\n",
       "  <thead>\n",
       "    <tr style=\"text-align: right;\">\n",
       "      <th></th>\n",
       "      <th>tweet_id</th>\n",
       "      <th>timestamp</th>\n",
       "      <th>text</th>\n",
       "      <th>expanded_urls</th>\n",
       "      <th>name</th>\n",
       "      <th>dog_stage</th>\n",
       "      <th>favorite_count</th>\n",
       "      <th>retweet_count</th>\n",
       "      <th>jpg_url</th>\n",
       "      <th>p1</th>\n",
       "      <th>p1_conf</th>\n",
       "      <th>p1_dog</th>\n",
       "      <th>p2</th>\n",
       "      <th>p2_conf</th>\n",
       "      <th>p2_dog</th>\n",
       "      <th>p3</th>\n",
       "      <th>p3_conf</th>\n",
       "      <th>p3_dog</th>\n",
       "      <th>rating</th>\n",
       "    </tr>\n",
       "  </thead>\n",
       "  <tbody>\n",
       "    <tr>\n",
       "      <th>399</th>\n",
       "      <td>813051746834595840</td>\n",
       "      <td>2016-12-25 16:00:16</td>\n",
       "      <td>This is Bauer. He had nothing to do with the c...</td>\n",
       "      <td>https://twitter.com/dog_rates/status/813051746...</td>\n",
       "      <td>Bauer</td>\n",
       "      <td>NaN</td>\n",
       "      <td>22144</td>\n",
       "      <td>7935</td>\n",
       "      <td>https://pbs.twimg.com/media/C0iKPZIXUAAbDYV.jpg</td>\n",
       "      <td>golden_retriever</td>\n",
       "      <td>0.914804</td>\n",
       "      <td>True</td>\n",
       "      <td>Labrador_retriever</td>\n",
       "      <td>0.083550</td>\n",
       "      <td>True</td>\n",
       "      <td>kuvasz</td>\n",
       "      <td>0.000453</td>\n",
       "      <td>True</td>\n",
       "      <td>1.3</td>\n",
       "    </tr>\n",
       "    <tr>\n",
       "      <th>292</th>\n",
       "      <td>828372645993398273</td>\n",
       "      <td>2017-02-05 22:40:03</td>\n",
       "      <td>This is Alexander Hamilpup. He was one of the ...</td>\n",
       "      <td>https://twitter.com/dog_rates/status/828372645...</td>\n",
       "      <td>Alexander</td>\n",
       "      <td>NaN</td>\n",
       "      <td>13113</td>\n",
       "      <td>3158</td>\n",
       "      <td>https://pbs.twimg.com/media/C374hb0WQAAIbQ-.jpg</td>\n",
       "      <td>malamute</td>\n",
       "      <td>0.663047</td>\n",
       "      <td>True</td>\n",
       "      <td>Eskimo_dog</td>\n",
       "      <td>0.207779</td>\n",
       "      <td>True</td>\n",
       "      <td>Tibetan_mastiff</td>\n",
       "      <td>0.040949</td>\n",
       "      <td>True</td>\n",
       "      <td>1.2</td>\n",
       "    </tr>\n",
       "    <tr>\n",
       "      <th>33</th>\n",
       "      <td>885167619883638784</td>\n",
       "      <td>2017-07-12 16:03:00</td>\n",
       "      <td>Here we have a corgi undercover as a malamute....</td>\n",
       "      <td>https://twitter.com/dog_rates/status/885167619...</td>\n",
       "      <td>NaN</td>\n",
       "      <td>NaN</td>\n",
       "      <td>21304</td>\n",
       "      <td>4238</td>\n",
       "      <td>https://pbs.twimg.com/media/DEi_N9qXYAAgEEw.jpg</td>\n",
       "      <td>malamute</td>\n",
       "      <td>0.812482</td>\n",
       "      <td>True</td>\n",
       "      <td>Siberian_husky</td>\n",
       "      <td>0.071712</td>\n",
       "      <td>True</td>\n",
       "      <td>Eskimo_dog</td>\n",
       "      <td>0.055770</td>\n",
       "      <td>True</td>\n",
       "      <td>1.3</td>\n",
       "    </tr>\n",
       "    <tr>\n",
       "      <th>78</th>\n",
       "      <td>874296783580663808</td>\n",
       "      <td>2017-06-12 16:06:11</td>\n",
       "      <td>This is Jed. He may be the fanciest pupper in ...</td>\n",
       "      <td>https://twitter.com/dog_rates/status/874296783...</td>\n",
       "      <td>Jed</td>\n",
       "      <td>pupper</td>\n",
       "      <td>25419</td>\n",
       "      <td>4000</td>\n",
       "      <td>https://pbs.twimg.com/media/DCIgSR0XgAANEOY.jpg</td>\n",
       "      <td>cocker_spaniel</td>\n",
       "      <td>0.437216</td>\n",
       "      <td>True</td>\n",
       "      <td>miniature_poodle</td>\n",
       "      <td>0.277191</td>\n",
       "      <td>True</td>\n",
       "      <td>toy_poodle</td>\n",
       "      <td>0.157402</td>\n",
       "      <td>True</td>\n",
       "      <td>1.3</td>\n",
       "    </tr>\n",
       "    <tr>\n",
       "      <th>1528</th>\n",
       "      <td>676946864479084545</td>\n",
       "      <td>2015-12-16 02:08:04</td>\n",
       "      <td>This pups goal was to get all four feet as clo...</td>\n",
       "      <td>https://twitter.com/dog_rates/status/676946864...</td>\n",
       "      <td>NaN</td>\n",
       "      <td>NaN</td>\n",
       "      <td>1753</td>\n",
       "      <td>394</td>\n",
       "      <td>https://pbs.twimg.com/media/CWT_lOQWUAAXPaY.jpg</td>\n",
       "      <td>Pekinese</td>\n",
       "      <td>0.752707</td>\n",
       "      <td>True</td>\n",
       "      <td>golden_retriever</td>\n",
       "      <td>0.055655</td>\n",
       "      <td>True</td>\n",
       "      <td>Great_Pyrenees</td>\n",
       "      <td>0.041018</td>\n",
       "      <td>True</td>\n",
       "      <td>1.2</td>\n",
       "    </tr>\n",
       "  </tbody>\n",
       "</table>\n",
       "</div>"
      ],
      "text/plain": [
       "                tweet_id           timestamp  \\\n",
       "399   813051746834595840 2016-12-25 16:00:16   \n",
       "292   828372645993398273 2017-02-05 22:40:03   \n",
       "33    885167619883638784 2017-07-12 16:03:00   \n",
       "78    874296783580663808 2017-06-12 16:06:11   \n",
       "1528  676946864479084545 2015-12-16 02:08:04   \n",
       "\n",
       "                                                   text  \\\n",
       "399   This is Bauer. He had nothing to do with the c...   \n",
       "292   This is Alexander Hamilpup. He was one of the ...   \n",
       "33    Here we have a corgi undercover as a malamute....   \n",
       "78    This is Jed. He may be the fanciest pupper in ...   \n",
       "1528  This pups goal was to get all four feet as clo...   \n",
       "\n",
       "                                          expanded_urls       name dog_stage  \\\n",
       "399   https://twitter.com/dog_rates/status/813051746...      Bauer       NaN   \n",
       "292   https://twitter.com/dog_rates/status/828372645...  Alexander       NaN   \n",
       "33    https://twitter.com/dog_rates/status/885167619...        NaN       NaN   \n",
       "78    https://twitter.com/dog_rates/status/874296783...        Jed    pupper   \n",
       "1528  https://twitter.com/dog_rates/status/676946864...        NaN       NaN   \n",
       "\n",
       "      favorite_count  retweet_count  \\\n",
       "399            22144           7935   \n",
       "292            13113           3158   \n",
       "33             21304           4238   \n",
       "78             25419           4000   \n",
       "1528            1753            394   \n",
       "\n",
       "                                              jpg_url                p1  \\\n",
       "399   https://pbs.twimg.com/media/C0iKPZIXUAAbDYV.jpg  golden_retriever   \n",
       "292   https://pbs.twimg.com/media/C374hb0WQAAIbQ-.jpg          malamute   \n",
       "33    https://pbs.twimg.com/media/DEi_N9qXYAAgEEw.jpg          malamute   \n",
       "78    https://pbs.twimg.com/media/DCIgSR0XgAANEOY.jpg    cocker_spaniel   \n",
       "1528  https://pbs.twimg.com/media/CWT_lOQWUAAXPaY.jpg          Pekinese   \n",
       "\n",
       "       p1_conf  p1_dog                  p2   p2_conf  p2_dog               p3  \\\n",
       "399   0.914804    True  Labrador_retriever  0.083550    True           kuvasz   \n",
       "292   0.663047    True          Eskimo_dog  0.207779    True  Tibetan_mastiff   \n",
       "33    0.812482    True      Siberian_husky  0.071712    True       Eskimo_dog   \n",
       "78    0.437216    True    miniature_poodle  0.277191    True       toy_poodle   \n",
       "1528  0.752707    True    golden_retriever  0.055655    True   Great_Pyrenees   \n",
       "\n",
       "       p3_conf  p3_dog  rating  \n",
       "399   0.000453    True     1.3  \n",
       "292   0.040949    True     1.2  \n",
       "33    0.055770    True     1.3  \n",
       "78    0.157402    True     1.3  \n",
       "1528  0.041018    True     1.2  "
      ]
     },
     "execution_count": 112,
     "metadata": {},
     "output_type": "execute_result"
    }
   ],
   "source": [
    "# Calulate the value of 'rating'\n",
    "weRateDogsArchive_clean['rating'] = weRateDogsArchive_clean['rating_numerator'] / weRateDogsArchive_clean['rating_denominator']\n",
    "\n",
    "#Now we can drop the numerator and denominator columns\n",
    "weRateDogsArchive_clean.drop(['rating_numerator', \n",
    "              'rating_denominator'], axis=1, inplace=True)\n",
    "\n",
    "weRateDogsArchive_clean.sample(5)"
   ]
  },
  {
   "cell_type": "markdown",
   "metadata": {},
   "source": [
    "---\n",
    "## Exporting the cleaned data into csv file"
   ]
  },
  {
   "cell_type": "code",
   "execution_count": 114,
   "metadata": {},
   "outputs": [],
   "source": [
    "weRateDogsArchive_clean.to_csv('twitter-archive-double-enhanced.csv')"
   ]
  },
  {
   "cell_type": "markdown",
   "metadata": {},
   "source": [
    "---\n",
    "## Analyzing the dataset for further understanding"
   ]
  },
  {
   "cell_type": "markdown",
   "metadata": {},
   "source": [
    "#### Let's check dog rating against time\n",
    "Checking dog rating against timestamp will give us a good overview about their rating and will answer question like: Do most dogs get 10/10 or they increased it overtime ?"
   ]
  },
  {
   "cell_type": "code",
   "execution_count": 115,
   "metadata": {},
   "outputs": [
    {
     "data": {
      "image/png": "[encoded data removed]",
      "text/plain": [
       "<matplotlib.figure.Figure at 0x7fd4feea0a20>"
      ]
     },
     "metadata": {
      "needs_background": "light"
     },
     "output_type": "display_data"
    }
   ],
   "source": [
    "# Plot standardized ratings over time\n",
    "weRateDogsArchive_clean.groupby('timestamp')['rating'].mean().plot(kind='line')\n",
    "plt.title('Rating over Time')\n",
    "plt.xlabel('Time')\n",
    "plt.ylabel('Standardized Rating')\n",
    "plt.show;"
   ]
  },
  {
   "cell_type": "markdown",
   "metadata": {},
   "source": [
    "Observing this graph we can tell that they stopped giving dogs 10/10 and increased the numerator by MID 2017, and the super cutest dogs of all the time gaind the maximum of 14/10.\n",
    "\n",
    "---"
   ]
  },
  {
   "cell_type": "markdown",
   "metadata": {},
   "source": [
    "#### Checking Retweet count aganist time\n",
    "Checking Retweets aganist timestamp will give us a good overview about their account activity and will answer questions like:\n",
    "When is the most users interactivity with their tweeter account and what is the most retweet count they have reached ?"
   ]
  },
  {
   "cell_type": "code",
   "execution_count": 116,
   "metadata": {},
   "outputs": [
    {
     "data": {
      "image/png": "[encoded data removed]",
      "text/plain": [
       "<matplotlib.figure.Figure at 0x7fd4fe144be0>"
      ]
     },
     "metadata": {
      "needs_background": "light"
     },
     "output_type": "display_data"
    }
   ],
   "source": [
    "weRateDogsArchive_clean.groupby('timestamp')['retweet_count'].mean().plot(kind='line')\n",
    "plt.title('Retweet over Time')\n",
    "plt.xlabel('Time')\n",
    "plt.ylabel('Retweets')\n",
    "plt.show;"
   ]
  },
  {
   "cell_type": "markdown",
   "metadata": {},
   "source": [
    "Observing this graph we can tell that the highest number of retweet they reached was 80k retweet and it was in 2016-07\n",
    "\n",
    "---"
   ]
  },
  {
   "cell_type": "markdown",
   "metadata": {},
   "source": [
    "#### Checking Favorite count aganist time\n",
    "Checking Favorite aganist timestamp will give us a good overview about their account activity and will answer questions like:\n",
    "When is the most users interactivity with their tweeter account and what is the most favorite count they have reached ?\n",
    "Do Retweet and favorite count realte to each other in terms of the highest count over time ?"
   ]
  },
  {
   "cell_type": "code",
   "execution_count": 122,
   "metadata": {},
   "outputs": [
    {
     "data": {
      "image/png": "[encoded data removed]",
      "text/plain": [
       "<matplotlib.figure.Figure at 0x7fd4fec23198>"
      ]
     },
     "metadata": {
      "needs_background": "light"
     },
     "output_type": "display_data"
    }
   ],
   "source": [
    "weRateDogsArchive_clean.groupby('timestamp')['favorite_count'].mean().plot(kind='line')\n",
    "plt.title('Favorite count over Time')\n",
    "plt.xlabel('Time')\n",
    "plt.ylabel('Retweets')\n",
    "plt.show;"
   ]
  },
  {
   "cell_type": "markdown",
   "metadata": {},
   "source": [
    "Observing this graph we can tell that the highest number of favorite count they reached was 160k favorite and it was in 2016-07, and also it was the same time the retweet reached it's highest count all the time.\n",
    "\n",
    "---"
   ]
  },
  {
   "cell_type": "markdown",
   "metadata": {},
   "source": [
    "#### Checking Retweets aganist Favorite\n",
    "Checking Retweets aganist Favorite will give us a good overview about the relation btween them and will give us an answer to the above question:\n",
    "Do Retweet and Favorite count have a common relationship or it's just random ?"
   ]
  },
  {
   "cell_type": "code",
   "execution_count": 119,
   "metadata": {},
   "outputs": [
    {
     "name": "stderr",
     "output_type": "stream",
     "text": [
      "/opt/conda/lib/python3.6/site-packages/scipy/stats/stats.py:1633: FutureWarning: Using a non-tuple sequence for multidimensional indexing is deprecated; use `arr[tuple(seq)]` instead of `arr[seq]`. In the future this will be interpreted as an array index, `arr[np.array(seq)]`, which will result either in an error or a different result.\n",
      "  return np.add.reduce(sorted[indexer] * weights, axis=axis) / sumval\n"
     ]
    },
    {
     "data": {
      "image/png": "[encoded data removed]",
      "text/plain": [
       "<matplotlib.figure.Figure at 0x7fd4febe82b0>"
      ]
     },
     "metadata": {
      "needs_background": "light"
     },
     "output_type": "display_data"
    }
   ],
   "source": [
    "# Plot scatterplot of retweet vs favorite count\n",
    "sns.lmplot(x= \"retweet_count\", \n",
    "           y= \"favorite_count\", \n",
    "           data= weRateDogsArchive_clean,\n",
    "           size = 5,\n",
    "           aspect= 1.3,\n",
    "           scatter_kws= {'alpha':1/5})\n",
    "plt.title('Favorite vs. Retweet Count')\n",
    "plt.xlabel('Retweet Count')\n",
    "plt.ylabel('Favorite Count');"
   ]
  },
  {
   "cell_type": "markdown",
   "metadata": {},
   "source": [
    "We can notice that favorite and retweet count are positively correlated."
   ]
  },
  {
   "cell_type": "markdown",
   "metadata": {},
   "source": [
    "---\n",
    "#### Checking for the most common dog names"
   ]
  },
  {
   "cell_type": "code",
   "execution_count": 4,
   "metadata": {},
   "outputs": [
    {
     "data": {
      "text/plain": [
       "[(nan, 469),\n",
       " ('Charlie', 10),\n",
       " ('Lucy', 10),\n",
       " ('Oliver', 9),\n",
       " ('Cooper', 9),\n",
       " ('Tucker', 8)]"
      ]
     },
     "execution_count": 4,
     "metadata": {},
     "output_type": "execute_result"
    }
   ],
   "source": [
    "x = weRateDogsArchive_clean['name']\n",
    "count = Counter(x)\n",
    "count.most_common(6)"
   ]
  },
  {
   "cell_type": "markdown",
   "metadata": {},
   "source": [
    "---\n",
    "#### Checking for the most common dog breed\n",
    "\n",
    "Note that by using p1 we assume that p1 is the correct prediction of the dog breed based on their image."
   ]
  },
  {
   "cell_type": "code",
   "execution_count": 5,
   "metadata": {},
   "outputs": [
    {
     "data": {
      "text/plain": [
       "[('golden_retriever', 129),\n",
       " ('Pembroke', 83),\n",
       " ('Labrador_retriever', 82),\n",
       " ('Chihuahua', 63),\n",
       " ('chow', 41),\n",
       " ('pug', 40)]"
      ]
     },
     "execution_count": 5,
     "metadata": {},
     "output_type": "execute_result"
    }
   ],
   "source": [
    "x = weRateDogsArchive_clean['p1']\n",
    "count = Counter(x)\n",
    "count.most_common(6)"
   ]
  },
  {
   "cell_type": "markdown",
   "metadata": {},
   "source": [
    "---\n",
    "#### Checking dog breed aganist rating given"
   ]
  },
  {
   "cell_type": "code",
   "execution_count": 7,
   "metadata": {},
   "outputs": [
    {
     "data": {
      "image/png": "[encoded data removed]",
      "text/plain": [
       "<matplotlib.figure.Figure at 0x7fef85b91588>"
      ]
     },
     "metadata": {
      "needs_background": "light"
     },
     "output_type": "display_data"
    }
   ],
   "source": [
    "top = weRateDogsArchive_clean.groupby('p1').filter(lambda x: len(x) >= 20)\n",
    "top['p1'].value_counts().plot(kind = 'bar')\n",
    "plt.title('The Most Rated Breeds');"
   ]
  }
 ],
 "metadata": {
  "kernelspec": {
   "display_name": "Python 3",
   "language": "python",
   "name": "python3"
  },
  "language_info": {
   "codemirror_mode": {
    "name": "ipython",
    "version": 3
   },
   "file_extension": ".py",
   "mimetype": "text/x-python",
   "name": "python",
   "nbconvert_exporter": "python",
   "pygments_lexer": "ipython3",
   "version": "3.6.3"
  }
 },
 "nbformat": 4,
 "nbformat_minor": 2
}
